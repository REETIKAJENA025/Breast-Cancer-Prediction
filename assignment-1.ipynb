{
 "cells": [
  {
   "cell_type": "markdown",
   "id": "666d9747",
   "metadata": {
    "id": "rLD4rw15VccW",
    "papermill": {
     "duration": 0.018311,
     "end_time": "2024-09-06T05:03:04.237639",
     "exception": false,
     "start_time": "2024-09-06T05:03:04.219328",
     "status": "completed"
    },
    "tags": []
   },
   "source": [
    "**Breast Cancer Classification with a simple Neural Network (NN)**"
   ]
  },
  {
   "cell_type": "markdown",
   "id": "a805e627",
   "metadata": {
    "id": "bNg72namVYm_",
    "papermill": {
     "duration": 0.016124,
     "end_time": "2024-09-06T05:03:04.269062",
     "exception": false,
     "start_time": "2024-09-06T05:03:04.252938",
     "status": "completed"
    },
    "tags": []
   },
   "source": [
    "\n",
    "\n",
    "Importing the Dependencies"
   ]
  },
  {
   "cell_type": "code",
   "execution_count": 1,
   "id": "d930490b",
   "metadata": {
    "execution": {
     "iopub.execute_input": "2024-09-06T05:03:04.301169Z",
     "iopub.status.busy": "2024-09-06T05:03:04.300512Z",
     "iopub.status.idle": "2024-09-06T05:03:06.384408Z",
     "shell.execute_reply": "2024-09-06T05:03:06.383300Z"
    },
    "executionInfo": {
     "elapsed": 2677,
     "status": "ok",
     "timestamp": 1719654146213,
     "user": {
      "displayName": "Reetika Jena",
      "userId": "02969832017266581211"
     },
     "user_tz": -330
    },
    "id": "lL_CTIdwR7vo",
    "papermill": {
     "duration": 2.10342,
     "end_time": "2024-09-06T05:03:06.387400",
     "exception": false,
     "start_time": "2024-09-06T05:03:04.283980",
     "status": "completed"
    },
    "tags": []
   },
   "outputs": [],
   "source": [
    "import numpy as np\n",
    "import pandas as pd\n",
    "import matplotlib.pyplot as plt\n",
    "import sklearn.datasets\n",
    "from sklearn.model_selection import train_test_split"
   ]
  },
  {
   "cell_type": "markdown",
   "id": "3ff45dbe",
   "metadata": {
    "id": "KjrjkVyBWXJ4",
    "papermill": {
     "duration": 0.017217,
     "end_time": "2024-09-06T05:03:06.420408",
     "exception": false,
     "start_time": "2024-09-06T05:03:06.403191",
     "status": "completed"
    },
    "tags": []
   },
   "source": [
    "**Data Collection & Processing**"
   ]
  },
  {
   "cell_type": "code",
   "execution_count": 2,
   "id": "7c7c1a8e",
   "metadata": {
    "execution": {
     "iopub.execute_input": "2024-09-06T05:03:06.455817Z",
     "iopub.status.busy": "2024-09-06T05:03:06.455145Z",
     "iopub.status.idle": "2024-09-06T05:03:06.571254Z",
     "shell.execute_reply": "2024-09-06T05:03:06.569914Z"
    },
    "executionInfo": {
     "elapsed": 12,
     "status": "ok",
     "timestamp": 1719654146215,
     "user": {
      "displayName": "Reetika Jena",
      "userId": "02969832017266581211"
     },
     "user_tz": -330
    },
    "id": "hKzDmcRESANB",
    "papermill": {
     "duration": 0.136995,
     "end_time": "2024-09-06T05:03:06.574229",
     "exception": false,
     "start_time": "2024-09-06T05:03:06.437234",
     "status": "completed"
    },
    "tags": []
   },
   "outputs": [],
   "source": [
    "# loading the data from sklearn\n",
    "breast_cancer_dataset = sklearn.datasets.load_breast_cancer()"
   ]
  },
  {
   "cell_type": "code",
   "execution_count": 3,
   "id": "a92c46f2",
   "metadata": {
    "execution": {
     "iopub.execute_input": "2024-09-06T05:03:06.608017Z",
     "iopub.status.busy": "2024-09-06T05:03:06.607511Z",
     "iopub.status.idle": "2024-09-06T05:03:06.620174Z",
     "shell.execute_reply": "2024-09-06T05:03:06.618734Z"
    },
    "executionInfo": {
     "elapsed": 11,
     "status": "ok",
     "timestamp": 1719654146215,
     "user": {
      "displayName": "Reetika Jena",
      "userId": "02969832017266581211"
     },
     "user_tz": -330
    },
    "id": "IZlWgYdESMyO",
    "outputId": "aefb74a2-2be1-4eb9-f6ec-60254cd7e6c6",
    "papermill": {
     "duration": 0.033142,
     "end_time": "2024-09-06T05:03:06.623381",
     "exception": false,
     "start_time": "2024-09-06T05:03:06.590239",
     "status": "completed"
    },
    "tags": []
   },
   "outputs": [
    {
     "name": "stdout",
     "output_type": "stream",
     "text": [
      "{'data': array([[1.799e+01, 1.038e+01, 1.228e+02, ..., 2.654e-01, 4.601e-01,\n",
      "        1.189e-01],\n",
      "       [2.057e+01, 1.777e+01, 1.329e+02, ..., 1.860e-01, 2.750e-01,\n",
      "        8.902e-02],\n",
      "       [1.969e+01, 2.125e+01, 1.300e+02, ..., 2.430e-01, 3.613e-01,\n",
      "        8.758e-02],\n",
      "       ...,\n",
      "       [1.660e+01, 2.808e+01, 1.083e+02, ..., 1.418e-01, 2.218e-01,\n",
      "        7.820e-02],\n",
      "       [2.060e+01, 2.933e+01, 1.401e+02, ..., 2.650e-01, 4.087e-01,\n",
      "        1.240e-01],\n",
      "       [7.760e+00, 2.454e+01, 4.792e+01, ..., 0.000e+00, 2.871e-01,\n",
      "        7.039e-02]]), 'target': array([0, 0, 0, 0, 0, 0, 0, 0, 0, 0, 0, 0, 0, 0, 0, 0, 0, 0, 0, 1, 1, 1,\n",
      "       0, 0, 0, 0, 0, 0, 0, 0, 0, 0, 0, 0, 0, 0, 0, 1, 0, 0, 0, 0, 0, 0,\n",
      "       0, 0, 1, 0, 1, 1, 1, 1, 1, 0, 0, 1, 0, 0, 1, 1, 1, 1, 0, 1, 0, 0,\n",
      "       1, 1, 1, 1, 0, 1, 0, 0, 1, 0, 1, 0, 0, 1, 1, 1, 0, 0, 1, 0, 0, 0,\n",
      "       1, 1, 1, 0, 1, 1, 0, 0, 1, 1, 1, 0, 0, 1, 1, 1, 1, 0, 1, 1, 0, 1,\n",
      "       1, 1, 1, 1, 1, 1, 1, 0, 0, 0, 1, 0, 0, 1, 1, 1, 0, 0, 1, 0, 1, 0,\n",
      "       0, 1, 0, 0, 1, 1, 0, 1, 1, 0, 1, 1, 1, 1, 0, 1, 1, 1, 1, 1, 1, 1,\n",
      "       1, 1, 0, 1, 1, 1, 1, 0, 0, 1, 0, 1, 1, 0, 0, 1, 1, 0, 0, 1, 1, 1,\n",
      "       1, 0, 1, 1, 0, 0, 0, 1, 0, 1, 0, 1, 1, 1, 0, 1, 1, 0, 0, 1, 0, 0,\n",
      "       0, 0, 1, 0, 0, 0, 1, 0, 1, 0, 1, 1, 0, 1, 0, 0, 0, 0, 1, 1, 0, 0,\n",
      "       1, 1, 1, 0, 1, 1, 1, 1, 1, 0, 0, 1, 1, 0, 1, 1, 0, 0, 1, 0, 1, 1,\n",
      "       1, 1, 0, 1, 1, 1, 1, 1, 0, 1, 0, 0, 0, 0, 0, 0, 0, 0, 0, 0, 0, 0,\n",
      "       0, 0, 1, 1, 1, 1, 1, 1, 0, 1, 0, 1, 1, 0, 1, 1, 0, 1, 0, 0, 1, 1,\n",
      "       1, 1, 1, 1, 1, 1, 1, 1, 1, 1, 1, 0, 1, 1, 0, 1, 0, 1, 1, 1, 1, 1,\n",
      "       1, 1, 1, 1, 1, 1, 1, 1, 1, 0, 1, 1, 1, 0, 1, 0, 1, 1, 1, 1, 0, 0,\n",
      "       0, 1, 1, 1, 1, 0, 1, 0, 1, 0, 1, 1, 1, 0, 1, 1, 1, 1, 1, 1, 1, 0,\n",
      "       0, 0, 1, 1, 1, 1, 1, 1, 1, 1, 1, 1, 1, 0, 0, 1, 0, 0, 0, 1, 0, 0,\n",
      "       1, 1, 1, 1, 1, 0, 1, 1, 1, 1, 1, 0, 1, 1, 1, 0, 1, 1, 0, 0, 1, 1,\n",
      "       1, 1, 1, 1, 0, 1, 1, 1, 1, 1, 1, 1, 0, 1, 1, 1, 1, 1, 0, 1, 1, 0,\n",
      "       1, 1, 1, 1, 1, 1, 1, 1, 1, 1, 1, 1, 0, 1, 0, 0, 1, 0, 1, 1, 1, 1,\n",
      "       1, 0, 1, 1, 0, 1, 0, 1, 1, 0, 1, 0, 1, 1, 1, 1, 1, 1, 1, 1, 0, 0,\n",
      "       1, 1, 1, 1, 1, 1, 0, 1, 1, 1, 1, 1, 1, 1, 1, 1, 1, 0, 1, 1, 1, 1,\n",
      "       1, 1, 1, 0, 1, 0, 1, 1, 0, 1, 1, 1, 1, 1, 0, 0, 1, 0, 1, 0, 1, 1,\n",
      "       1, 1, 1, 0, 1, 1, 0, 1, 0, 1, 0, 0, 1, 1, 1, 0, 1, 1, 1, 1, 1, 1,\n",
      "       1, 1, 1, 1, 1, 0, 1, 0, 0, 1, 1, 1, 1, 1, 1, 1, 1, 1, 1, 1, 1, 1,\n",
      "       1, 1, 1, 1, 1, 1, 1, 1, 1, 1, 1, 1, 0, 0, 0, 0, 0, 0, 1]), 'frame': None, 'target_names': array(['malignant', 'benign'], dtype='<U9'), 'DESCR': '.. _breast_cancer_dataset:\\n\\nBreast cancer wisconsin (diagnostic) dataset\\n--------------------------------------------\\n\\n**Data Set Characteristics:**\\n\\n    :Number of Instances: 569\\n\\n    :Number of Attributes: 30 numeric, predictive attributes and the class\\n\\n    :Attribute Information:\\n        - radius (mean of distances from center to points on the perimeter)\\n        - texture (standard deviation of gray-scale values)\\n        - perimeter\\n        - area\\n        - smoothness (local variation in radius lengths)\\n        - compactness (perimeter^2 / area - 1.0)\\n        - concavity (severity of concave portions of the contour)\\n        - concave points (number of concave portions of the contour)\\n        - symmetry\\n        - fractal dimension (\"coastline approximation\" - 1)\\n\\n        The mean, standard error, and \"worst\" or largest (mean of the three\\n        worst/largest values) of these features were computed for each image,\\n        resulting in 30 features.  For instance, field 0 is Mean Radius, field\\n        10 is Radius SE, field 20 is Worst Radius.\\n\\n        - class:\\n                - WDBC-Malignant\\n                - WDBC-Benign\\n\\n    :Summary Statistics:\\n\\n    ===================================== ====== ======\\n                                           Min    Max\\n    ===================================== ====== ======\\n    radius (mean):                        6.981  28.11\\n    texture (mean):                       9.71   39.28\\n    perimeter (mean):                     43.79  188.5\\n    area (mean):                          143.5  2501.0\\n    smoothness (mean):                    0.053  0.163\\n    compactness (mean):                   0.019  0.345\\n    concavity (mean):                     0.0    0.427\\n    concave points (mean):                0.0    0.201\\n    symmetry (mean):                      0.106  0.304\\n    fractal dimension (mean):             0.05   0.097\\n    radius (standard error):              0.112  2.873\\n    texture (standard error):             0.36   4.885\\n    perimeter (standard error):           0.757  21.98\\n    area (standard error):                6.802  542.2\\n    smoothness (standard error):          0.002  0.031\\n    compactness (standard error):         0.002  0.135\\n    concavity (standard error):           0.0    0.396\\n    concave points (standard error):      0.0    0.053\\n    symmetry (standard error):            0.008  0.079\\n    fractal dimension (standard error):   0.001  0.03\\n    radius (worst):                       7.93   36.04\\n    texture (worst):                      12.02  49.54\\n    perimeter (worst):                    50.41  251.2\\n    area (worst):                         185.2  4254.0\\n    smoothness (worst):                   0.071  0.223\\n    compactness (worst):                  0.027  1.058\\n    concavity (worst):                    0.0    1.252\\n    concave points (worst):               0.0    0.291\\n    symmetry (worst):                     0.156  0.664\\n    fractal dimension (worst):            0.055  0.208\\n    ===================================== ====== ======\\n\\n    :Missing Attribute Values: None\\n\\n    :Class Distribution: 212 - Malignant, 357 - Benign\\n\\n    :Creator:  Dr. William H. Wolberg, W. Nick Street, Olvi L. Mangasarian\\n\\n    :Donor: Nick Street\\n\\n    :Date: November, 1995\\n\\nThis is a copy of UCI ML Breast Cancer Wisconsin (Diagnostic) datasets.\\nhttps://goo.gl/U2Uwz2\\n\\nFeatures are computed from a digitized image of a fine needle\\naspirate (FNA) of a breast mass.  They describe\\ncharacteristics of the cell nuclei present in the image.\\n\\nSeparating plane described above was obtained using\\nMultisurface Method-Tree (MSM-T) [K. P. Bennett, \"Decision Tree\\nConstruction Via Linear Programming.\" Proceedings of the 4th\\nMidwest Artificial Intelligence and Cognitive Science Society,\\npp. 97-101, 1992], a classification method which uses linear\\nprogramming to construct a decision tree.  Relevant features\\nwere selected using an exhaustive search in the space of 1-4\\nfeatures and 1-3 separating planes.\\n\\nThe actual linear program used to obtain the separating plane\\nin the 3-dimensional space is that described in:\\n[K. P. Bennett and O. L. Mangasarian: \"Robust Linear\\nProgramming Discrimination of Two Linearly Inseparable Sets\",\\nOptimization Methods and Software 1, 1992, 23-34].\\n\\nThis database is also available through the UW CS ftp server:\\n\\nftp ftp.cs.wisc.edu\\ncd math-prog/cpo-dataset/machine-learn/WDBC/\\n\\n.. topic:: References\\n\\n   - W.N. Street, W.H. Wolberg and O.L. Mangasarian. Nuclear feature extraction \\n     for breast tumor diagnosis. IS&T/SPIE 1993 International Symposium on \\n     Electronic Imaging: Science and Technology, volume 1905, pages 861-870,\\n     San Jose, CA, 1993.\\n   - O.L. Mangasarian, W.N. Street and W.H. Wolberg. Breast cancer diagnosis and \\n     prognosis via linear programming. Operations Research, 43(4), pages 570-577, \\n     July-August 1995.\\n   - W.H. Wolberg, W.N. Street, and O.L. Mangasarian. Machine learning techniques\\n     to diagnose breast cancer from fine-needle aspirates. Cancer Letters 77 (1994) \\n     163-171.', 'feature_names': array(['mean radius', 'mean texture', 'mean perimeter', 'mean area',\n",
      "       'mean smoothness', 'mean compactness', 'mean concavity',\n",
      "       'mean concave points', 'mean symmetry', 'mean fractal dimension',\n",
      "       'radius error', 'texture error', 'perimeter error', 'area error',\n",
      "       'smoothness error', 'compactness error', 'concavity error',\n",
      "       'concave points error', 'symmetry error',\n",
      "       'fractal dimension error', 'worst radius', 'worst texture',\n",
      "       'worst perimeter', 'worst area', 'worst smoothness',\n",
      "       'worst compactness', 'worst concavity', 'worst concave points',\n",
      "       'worst symmetry', 'worst fractal dimension'], dtype='<U23'), 'filename': 'breast_cancer.csv', 'data_module': 'sklearn.datasets.data'}\n"
     ]
    }
   ],
   "source": [
    "print(breast_cancer_dataset)"
   ]
  },
  {
   "cell_type": "code",
   "execution_count": 4,
   "id": "63eb77ce",
   "metadata": {
    "execution": {
     "iopub.execute_input": "2024-09-06T05:03:06.658316Z",
     "iopub.status.busy": "2024-09-06T05:03:06.657832Z",
     "iopub.status.idle": "2024-09-06T05:03:06.666143Z",
     "shell.execute_reply": "2024-09-06T05:03:06.664644Z"
    },
    "executionInfo": {
     "elapsed": 8,
     "status": "ok",
     "timestamp": 1719654146215,
     "user": {
      "displayName": "Reetika Jena",
      "userId": "02969832017266581211"
     },
     "user_tz": -330
    },
    "id": "UqCPe2esSM0q",
    "papermill": {
     "duration": 0.029011,
     "end_time": "2024-09-06T05:03:06.669148",
     "exception": false,
     "start_time": "2024-09-06T05:03:06.640137",
     "status": "completed"
    },
    "tags": []
   },
   "outputs": [],
   "source": [
    "# loading the data to a data frame\n",
    "data_frame = pd.DataFrame(breast_cancer_dataset.data, columns = breast_cancer_dataset.feature_names)"
   ]
  },
  {
   "cell_type": "code",
   "execution_count": 5,
   "id": "cb28e471",
   "metadata": {
    "execution": {
     "iopub.execute_input": "2024-09-06T05:03:06.702674Z",
     "iopub.status.busy": "2024-09-06T05:03:06.702216Z",
     "iopub.status.idle": "2024-09-06T05:03:06.756380Z",
     "shell.execute_reply": "2024-09-06T05:03:06.755143Z"
    },
    "executionInfo": {
     "elapsed": 9,
     "status": "ok",
     "timestamp": 1719654146216,
     "user": {
      "displayName": "Reetika Jena",
      "userId": "02969832017266581211"
     },
     "user_tz": -330
    },
    "id": "mG6e2S2wSM2w",
    "outputId": "177f06e9-caaa-4489-baff-f62951fa26f6",
    "papermill": {
     "duration": 0.074058,
     "end_time": "2024-09-06T05:03:06.759153",
     "exception": false,
     "start_time": "2024-09-06T05:03:06.685095",
     "status": "completed"
    },
    "tags": []
   },
   "outputs": [
    {
     "data": {
      "text/html": [
       "<div>\n",
       "<style scoped>\n",
       "    .dataframe tbody tr th:only-of-type {\n",
       "        vertical-align: middle;\n",
       "    }\n",
       "\n",
       "    .dataframe tbody tr th {\n",
       "        vertical-align: top;\n",
       "    }\n",
       "\n",
       "    .dataframe thead th {\n",
       "        text-align: right;\n",
       "    }\n",
       "</style>\n",
       "<table border=\"1\" class=\"dataframe\">\n",
       "  <thead>\n",
       "    <tr style=\"text-align: right;\">\n",
       "      <th></th>\n",
       "      <th>mean radius</th>\n",
       "      <th>mean texture</th>\n",
       "      <th>mean perimeter</th>\n",
       "      <th>mean area</th>\n",
       "      <th>mean smoothness</th>\n",
       "      <th>mean compactness</th>\n",
       "      <th>mean concavity</th>\n",
       "      <th>mean concave points</th>\n",
       "      <th>mean symmetry</th>\n",
       "      <th>mean fractal dimension</th>\n",
       "      <th>...</th>\n",
       "      <th>worst radius</th>\n",
       "      <th>worst texture</th>\n",
       "      <th>worst perimeter</th>\n",
       "      <th>worst area</th>\n",
       "      <th>worst smoothness</th>\n",
       "      <th>worst compactness</th>\n",
       "      <th>worst concavity</th>\n",
       "      <th>worst concave points</th>\n",
       "      <th>worst symmetry</th>\n",
       "      <th>worst fractal dimension</th>\n",
       "    </tr>\n",
       "  </thead>\n",
       "  <tbody>\n",
       "    <tr>\n",
       "      <th>0</th>\n",
       "      <td>17.99</td>\n",
       "      <td>10.38</td>\n",
       "      <td>122.80</td>\n",
       "      <td>1001.0</td>\n",
       "      <td>0.11840</td>\n",
       "      <td>0.27760</td>\n",
       "      <td>0.3001</td>\n",
       "      <td>0.14710</td>\n",
       "      <td>0.2419</td>\n",
       "      <td>0.07871</td>\n",
       "      <td>...</td>\n",
       "      <td>25.38</td>\n",
       "      <td>17.33</td>\n",
       "      <td>184.60</td>\n",
       "      <td>2019.0</td>\n",
       "      <td>0.1622</td>\n",
       "      <td>0.6656</td>\n",
       "      <td>0.7119</td>\n",
       "      <td>0.2654</td>\n",
       "      <td>0.4601</td>\n",
       "      <td>0.11890</td>\n",
       "    </tr>\n",
       "    <tr>\n",
       "      <th>1</th>\n",
       "      <td>20.57</td>\n",
       "      <td>17.77</td>\n",
       "      <td>132.90</td>\n",
       "      <td>1326.0</td>\n",
       "      <td>0.08474</td>\n",
       "      <td>0.07864</td>\n",
       "      <td>0.0869</td>\n",
       "      <td>0.07017</td>\n",
       "      <td>0.1812</td>\n",
       "      <td>0.05667</td>\n",
       "      <td>...</td>\n",
       "      <td>24.99</td>\n",
       "      <td>23.41</td>\n",
       "      <td>158.80</td>\n",
       "      <td>1956.0</td>\n",
       "      <td>0.1238</td>\n",
       "      <td>0.1866</td>\n",
       "      <td>0.2416</td>\n",
       "      <td>0.1860</td>\n",
       "      <td>0.2750</td>\n",
       "      <td>0.08902</td>\n",
       "    </tr>\n",
       "    <tr>\n",
       "      <th>2</th>\n",
       "      <td>19.69</td>\n",
       "      <td>21.25</td>\n",
       "      <td>130.00</td>\n",
       "      <td>1203.0</td>\n",
       "      <td>0.10960</td>\n",
       "      <td>0.15990</td>\n",
       "      <td>0.1974</td>\n",
       "      <td>0.12790</td>\n",
       "      <td>0.2069</td>\n",
       "      <td>0.05999</td>\n",
       "      <td>...</td>\n",
       "      <td>23.57</td>\n",
       "      <td>25.53</td>\n",
       "      <td>152.50</td>\n",
       "      <td>1709.0</td>\n",
       "      <td>0.1444</td>\n",
       "      <td>0.4245</td>\n",
       "      <td>0.4504</td>\n",
       "      <td>0.2430</td>\n",
       "      <td>0.3613</td>\n",
       "      <td>0.08758</td>\n",
       "    </tr>\n",
       "    <tr>\n",
       "      <th>3</th>\n",
       "      <td>11.42</td>\n",
       "      <td>20.38</td>\n",
       "      <td>77.58</td>\n",
       "      <td>386.1</td>\n",
       "      <td>0.14250</td>\n",
       "      <td>0.28390</td>\n",
       "      <td>0.2414</td>\n",
       "      <td>0.10520</td>\n",
       "      <td>0.2597</td>\n",
       "      <td>0.09744</td>\n",
       "      <td>...</td>\n",
       "      <td>14.91</td>\n",
       "      <td>26.50</td>\n",
       "      <td>98.87</td>\n",
       "      <td>567.7</td>\n",
       "      <td>0.2098</td>\n",
       "      <td>0.8663</td>\n",
       "      <td>0.6869</td>\n",
       "      <td>0.2575</td>\n",
       "      <td>0.6638</td>\n",
       "      <td>0.17300</td>\n",
       "    </tr>\n",
       "    <tr>\n",
       "      <th>4</th>\n",
       "      <td>20.29</td>\n",
       "      <td>14.34</td>\n",
       "      <td>135.10</td>\n",
       "      <td>1297.0</td>\n",
       "      <td>0.10030</td>\n",
       "      <td>0.13280</td>\n",
       "      <td>0.1980</td>\n",
       "      <td>0.10430</td>\n",
       "      <td>0.1809</td>\n",
       "      <td>0.05883</td>\n",
       "      <td>...</td>\n",
       "      <td>22.54</td>\n",
       "      <td>16.67</td>\n",
       "      <td>152.20</td>\n",
       "      <td>1575.0</td>\n",
       "      <td>0.1374</td>\n",
       "      <td>0.2050</td>\n",
       "      <td>0.4000</td>\n",
       "      <td>0.1625</td>\n",
       "      <td>0.2364</td>\n",
       "      <td>0.07678</td>\n",
       "    </tr>\n",
       "  </tbody>\n",
       "</table>\n",
       "<p>5 rows × 30 columns</p>\n",
       "</div>"
      ],
      "text/plain": [
       "   mean radius  mean texture  mean perimeter  mean area  mean smoothness  \\\n",
       "0        17.99         10.38          122.80     1001.0          0.11840   \n",
       "1        20.57         17.77          132.90     1326.0          0.08474   \n",
       "2        19.69         21.25          130.00     1203.0          0.10960   \n",
       "3        11.42         20.38           77.58      386.1          0.14250   \n",
       "4        20.29         14.34          135.10     1297.0          0.10030   \n",
       "\n",
       "   mean compactness  mean concavity  mean concave points  mean symmetry  \\\n",
       "0           0.27760          0.3001              0.14710         0.2419   \n",
       "1           0.07864          0.0869              0.07017         0.1812   \n",
       "2           0.15990          0.1974              0.12790         0.2069   \n",
       "3           0.28390          0.2414              0.10520         0.2597   \n",
       "4           0.13280          0.1980              0.10430         0.1809   \n",
       "\n",
       "   mean fractal dimension  ...  worst radius  worst texture  worst perimeter  \\\n",
       "0                 0.07871  ...         25.38          17.33           184.60   \n",
       "1                 0.05667  ...         24.99          23.41           158.80   \n",
       "2                 0.05999  ...         23.57          25.53           152.50   \n",
       "3                 0.09744  ...         14.91          26.50            98.87   \n",
       "4                 0.05883  ...         22.54          16.67           152.20   \n",
       "\n",
       "   worst area  worst smoothness  worst compactness  worst concavity  \\\n",
       "0      2019.0            0.1622             0.6656           0.7119   \n",
       "1      1956.0            0.1238             0.1866           0.2416   \n",
       "2      1709.0            0.1444             0.4245           0.4504   \n",
       "3       567.7            0.2098             0.8663           0.6869   \n",
       "4      1575.0            0.1374             0.2050           0.4000   \n",
       "\n",
       "   worst concave points  worst symmetry  worst fractal dimension  \n",
       "0                0.2654          0.4601                  0.11890  \n",
       "1                0.1860          0.2750                  0.08902  \n",
       "2                0.2430          0.3613                  0.08758  \n",
       "3                0.2575          0.6638                  0.17300  \n",
       "4                0.1625          0.2364                  0.07678  \n",
       "\n",
       "[5 rows x 30 columns]"
      ]
     },
     "execution_count": 5,
     "metadata": {},
     "output_type": "execute_result"
    }
   ],
   "source": [
    "data_frame.head()"
   ]
  },
  {
   "cell_type": "code",
   "execution_count": 6,
   "id": "8e26947d",
   "metadata": {
    "execution": {
     "iopub.execute_input": "2024-09-06T05:03:06.794466Z",
     "iopub.status.busy": "2024-09-06T05:03:06.793991Z",
     "iopub.status.idle": "2024-09-06T05:03:06.801026Z",
     "shell.execute_reply": "2024-09-06T05:03:06.799561Z"
    },
    "executionInfo": {
     "elapsed": 1401,
     "status": "ok",
     "timestamp": 1719654147609,
     "user": {
      "displayName": "Reetika Jena",
      "userId": "02969832017266581211"
     },
     "user_tz": -330
    },
    "id": "Np_6DKTnSM4_",
    "papermill": {
     "duration": 0.027266,
     "end_time": "2024-09-06T05:03:06.803566",
     "exception": false,
     "start_time": "2024-09-06T05:03:06.776300",
     "status": "completed"
    },
    "tags": []
   },
   "outputs": [],
   "source": [
    "# adding the 'target' column to the data frame\n",
    "data_frame['label'] = breast_cancer_dataset.target"
   ]
  },
  {
   "cell_type": "code",
   "execution_count": 7,
   "id": "20864a82",
   "metadata": {
    "execution": {
     "iopub.execute_input": "2024-09-06T05:03:06.840941Z",
     "iopub.status.busy": "2024-09-06T05:03:06.840483Z",
     "iopub.status.idle": "2024-09-06T05:03:06.881308Z",
     "shell.execute_reply": "2024-09-06T05:03:06.879433Z"
    },
    "executionInfo": {
     "elapsed": 6,
     "status": "ok",
     "timestamp": 1719654147610,
     "user": {
      "displayName": "Reetika Jena",
      "userId": "02969832017266581211"
     },
     "user_tz": -330
    },
    "id": "iH6h8GV7SM8Y",
    "outputId": "48958525-94a0-4585-f838-e1d154caf8c3",
    "papermill": {
     "duration": 0.064788,
     "end_time": "2024-09-06T05:03:06.885656",
     "exception": false,
     "start_time": "2024-09-06T05:03:06.820868",
     "status": "completed"
    },
    "tags": []
   },
   "outputs": [
    {
     "data": {
      "text/html": [
       "<div>\n",
       "<style scoped>\n",
       "    .dataframe tbody tr th:only-of-type {\n",
       "        vertical-align: middle;\n",
       "    }\n",
       "\n",
       "    .dataframe tbody tr th {\n",
       "        vertical-align: top;\n",
       "    }\n",
       "\n",
       "    .dataframe thead th {\n",
       "        text-align: right;\n",
       "    }\n",
       "</style>\n",
       "<table border=\"1\" class=\"dataframe\">\n",
       "  <thead>\n",
       "    <tr style=\"text-align: right;\">\n",
       "      <th></th>\n",
       "      <th>mean radius</th>\n",
       "      <th>mean texture</th>\n",
       "      <th>mean perimeter</th>\n",
       "      <th>mean area</th>\n",
       "      <th>mean smoothness</th>\n",
       "      <th>mean compactness</th>\n",
       "      <th>mean concavity</th>\n",
       "      <th>mean concave points</th>\n",
       "      <th>mean symmetry</th>\n",
       "      <th>mean fractal dimension</th>\n",
       "      <th>...</th>\n",
       "      <th>worst texture</th>\n",
       "      <th>worst perimeter</th>\n",
       "      <th>worst area</th>\n",
       "      <th>worst smoothness</th>\n",
       "      <th>worst compactness</th>\n",
       "      <th>worst concavity</th>\n",
       "      <th>worst concave points</th>\n",
       "      <th>worst symmetry</th>\n",
       "      <th>worst fractal dimension</th>\n",
       "      <th>label</th>\n",
       "    </tr>\n",
       "  </thead>\n",
       "  <tbody>\n",
       "    <tr>\n",
       "      <th>564</th>\n",
       "      <td>21.56</td>\n",
       "      <td>22.39</td>\n",
       "      <td>142.00</td>\n",
       "      <td>1479.0</td>\n",
       "      <td>0.11100</td>\n",
       "      <td>0.11590</td>\n",
       "      <td>0.24390</td>\n",
       "      <td>0.13890</td>\n",
       "      <td>0.1726</td>\n",
       "      <td>0.05623</td>\n",
       "      <td>...</td>\n",
       "      <td>26.40</td>\n",
       "      <td>166.10</td>\n",
       "      <td>2027.0</td>\n",
       "      <td>0.14100</td>\n",
       "      <td>0.21130</td>\n",
       "      <td>0.4107</td>\n",
       "      <td>0.2216</td>\n",
       "      <td>0.2060</td>\n",
       "      <td>0.07115</td>\n",
       "      <td>0</td>\n",
       "    </tr>\n",
       "    <tr>\n",
       "      <th>565</th>\n",
       "      <td>20.13</td>\n",
       "      <td>28.25</td>\n",
       "      <td>131.20</td>\n",
       "      <td>1261.0</td>\n",
       "      <td>0.09780</td>\n",
       "      <td>0.10340</td>\n",
       "      <td>0.14400</td>\n",
       "      <td>0.09791</td>\n",
       "      <td>0.1752</td>\n",
       "      <td>0.05533</td>\n",
       "      <td>...</td>\n",
       "      <td>38.25</td>\n",
       "      <td>155.00</td>\n",
       "      <td>1731.0</td>\n",
       "      <td>0.11660</td>\n",
       "      <td>0.19220</td>\n",
       "      <td>0.3215</td>\n",
       "      <td>0.1628</td>\n",
       "      <td>0.2572</td>\n",
       "      <td>0.06637</td>\n",
       "      <td>0</td>\n",
       "    </tr>\n",
       "    <tr>\n",
       "      <th>566</th>\n",
       "      <td>16.60</td>\n",
       "      <td>28.08</td>\n",
       "      <td>108.30</td>\n",
       "      <td>858.1</td>\n",
       "      <td>0.08455</td>\n",
       "      <td>0.10230</td>\n",
       "      <td>0.09251</td>\n",
       "      <td>0.05302</td>\n",
       "      <td>0.1590</td>\n",
       "      <td>0.05648</td>\n",
       "      <td>...</td>\n",
       "      <td>34.12</td>\n",
       "      <td>126.70</td>\n",
       "      <td>1124.0</td>\n",
       "      <td>0.11390</td>\n",
       "      <td>0.30940</td>\n",
       "      <td>0.3403</td>\n",
       "      <td>0.1418</td>\n",
       "      <td>0.2218</td>\n",
       "      <td>0.07820</td>\n",
       "      <td>0</td>\n",
       "    </tr>\n",
       "    <tr>\n",
       "      <th>567</th>\n",
       "      <td>20.60</td>\n",
       "      <td>29.33</td>\n",
       "      <td>140.10</td>\n",
       "      <td>1265.0</td>\n",
       "      <td>0.11780</td>\n",
       "      <td>0.27700</td>\n",
       "      <td>0.35140</td>\n",
       "      <td>0.15200</td>\n",
       "      <td>0.2397</td>\n",
       "      <td>0.07016</td>\n",
       "      <td>...</td>\n",
       "      <td>39.42</td>\n",
       "      <td>184.60</td>\n",
       "      <td>1821.0</td>\n",
       "      <td>0.16500</td>\n",
       "      <td>0.86810</td>\n",
       "      <td>0.9387</td>\n",
       "      <td>0.2650</td>\n",
       "      <td>0.4087</td>\n",
       "      <td>0.12400</td>\n",
       "      <td>0</td>\n",
       "    </tr>\n",
       "    <tr>\n",
       "      <th>568</th>\n",
       "      <td>7.76</td>\n",
       "      <td>24.54</td>\n",
       "      <td>47.92</td>\n",
       "      <td>181.0</td>\n",
       "      <td>0.05263</td>\n",
       "      <td>0.04362</td>\n",
       "      <td>0.00000</td>\n",
       "      <td>0.00000</td>\n",
       "      <td>0.1587</td>\n",
       "      <td>0.05884</td>\n",
       "      <td>...</td>\n",
       "      <td>30.37</td>\n",
       "      <td>59.16</td>\n",
       "      <td>268.6</td>\n",
       "      <td>0.08996</td>\n",
       "      <td>0.06444</td>\n",
       "      <td>0.0000</td>\n",
       "      <td>0.0000</td>\n",
       "      <td>0.2871</td>\n",
       "      <td>0.07039</td>\n",
       "      <td>1</td>\n",
       "    </tr>\n",
       "  </tbody>\n",
       "</table>\n",
       "<p>5 rows × 31 columns</p>\n",
       "</div>"
      ],
      "text/plain": [
       "     mean radius  mean texture  mean perimeter  mean area  mean smoothness  \\\n",
       "564        21.56         22.39          142.00     1479.0          0.11100   \n",
       "565        20.13         28.25          131.20     1261.0          0.09780   \n",
       "566        16.60         28.08          108.30      858.1          0.08455   \n",
       "567        20.60         29.33          140.10     1265.0          0.11780   \n",
       "568         7.76         24.54           47.92      181.0          0.05263   \n",
       "\n",
       "     mean compactness  mean concavity  mean concave points  mean symmetry  \\\n",
       "564           0.11590         0.24390              0.13890         0.1726   \n",
       "565           0.10340         0.14400              0.09791         0.1752   \n",
       "566           0.10230         0.09251              0.05302         0.1590   \n",
       "567           0.27700         0.35140              0.15200         0.2397   \n",
       "568           0.04362         0.00000              0.00000         0.1587   \n",
       "\n",
       "     mean fractal dimension  ...  worst texture  worst perimeter  worst area  \\\n",
       "564                 0.05623  ...          26.40           166.10      2027.0   \n",
       "565                 0.05533  ...          38.25           155.00      1731.0   \n",
       "566                 0.05648  ...          34.12           126.70      1124.0   \n",
       "567                 0.07016  ...          39.42           184.60      1821.0   \n",
       "568                 0.05884  ...          30.37            59.16       268.6   \n",
       "\n",
       "     worst smoothness  worst compactness  worst concavity  \\\n",
       "564           0.14100            0.21130           0.4107   \n",
       "565           0.11660            0.19220           0.3215   \n",
       "566           0.11390            0.30940           0.3403   \n",
       "567           0.16500            0.86810           0.9387   \n",
       "568           0.08996            0.06444           0.0000   \n",
       "\n",
       "     worst concave points  worst symmetry  worst fractal dimension  label  \n",
       "564                0.2216          0.2060                  0.07115      0  \n",
       "565                0.1628          0.2572                  0.06637      0  \n",
       "566                0.1418          0.2218                  0.07820      0  \n",
       "567                0.2650          0.4087                  0.12400      0  \n",
       "568                0.0000          0.2871                  0.07039      1  \n",
       "\n",
       "[5 rows x 31 columns]"
      ]
     },
     "execution_count": 7,
     "metadata": {},
     "output_type": "execute_result"
    }
   ],
   "source": [
    "# print last 5 rows of the dataframe\n",
    "data_frame.tail()"
   ]
  },
  {
   "cell_type": "code",
   "execution_count": 8,
   "id": "684499dc",
   "metadata": {
    "execution": {
     "iopub.execute_input": "2024-09-06T05:03:06.922132Z",
     "iopub.status.busy": "2024-09-06T05:03:06.921690Z",
     "iopub.status.idle": "2024-09-06T05:03:06.931221Z",
     "shell.execute_reply": "2024-09-06T05:03:06.929442Z"
    },
    "executionInfo": {
     "elapsed": 5,
     "status": "ok",
     "timestamp": 1719654147610,
     "user": {
      "displayName": "Reetika Jena",
      "userId": "02969832017266581211"
     },
     "user_tz": -330
    },
    "id": "jYqhcPq3SnqU",
    "outputId": "d7deb089-5e22-47ec-a7f0-283b90f20e25",
    "papermill": {
     "duration": 0.031339,
     "end_time": "2024-09-06T05:03:06.934713",
     "exception": false,
     "start_time": "2024-09-06T05:03:06.903374",
     "status": "completed"
    },
    "tags": []
   },
   "outputs": [
    {
     "data": {
      "text/plain": [
       "(569, 31)"
      ]
     },
     "execution_count": 8,
     "metadata": {},
     "output_type": "execute_result"
    }
   ],
   "source": [
    "# number of rows and columns in the dataset\n",
    "data_frame.shape"
   ]
  },
  {
   "cell_type": "code",
   "execution_count": 9,
   "id": "0ecbc146",
   "metadata": {
    "execution": {
     "iopub.execute_input": "2024-09-06T05:03:06.973132Z",
     "iopub.status.busy": "2024-09-06T05:03:06.972255Z",
     "iopub.status.idle": "2024-09-06T05:03:07.001568Z",
     "shell.execute_reply": "2024-09-06T05:03:07.000109Z"
    },
    "executionInfo": {
     "elapsed": 3,
     "status": "ok",
     "timestamp": 1719654148321,
     "user": {
      "displayName": "Reetika Jena",
      "userId": "02969832017266581211"
     },
     "user_tz": -330
    },
    "id": "7o51_tgHSn1v",
    "outputId": "fb7149dd-8a50-48dc-98b6-d342f1fcf287",
    "papermill": {
     "duration": 0.051065,
     "end_time": "2024-09-06T05:03:07.004195",
     "exception": false,
     "start_time": "2024-09-06T05:03:06.953130",
     "status": "completed"
    },
    "tags": []
   },
   "outputs": [
    {
     "name": "stdout",
     "output_type": "stream",
     "text": [
      "<class 'pandas.core.frame.DataFrame'>\n",
      "RangeIndex: 569 entries, 0 to 568\n",
      "Data columns (total 31 columns):\n",
      " #   Column                   Non-Null Count  Dtype  \n",
      "---  ------                   --------------  -----  \n",
      " 0   mean radius              569 non-null    float64\n",
      " 1   mean texture             569 non-null    float64\n",
      " 2   mean perimeter           569 non-null    float64\n",
      " 3   mean area                569 non-null    float64\n",
      " 4   mean smoothness          569 non-null    float64\n",
      " 5   mean compactness         569 non-null    float64\n",
      " 6   mean concavity           569 non-null    float64\n",
      " 7   mean concave points      569 non-null    float64\n",
      " 8   mean symmetry            569 non-null    float64\n",
      " 9   mean fractal dimension   569 non-null    float64\n",
      " 10  radius error             569 non-null    float64\n",
      " 11  texture error            569 non-null    float64\n",
      " 12  perimeter error          569 non-null    float64\n",
      " 13  area error               569 non-null    float64\n",
      " 14  smoothness error         569 non-null    float64\n",
      " 15  compactness error        569 non-null    float64\n",
      " 16  concavity error          569 non-null    float64\n",
      " 17  concave points error     569 non-null    float64\n",
      " 18  symmetry error           569 non-null    float64\n",
      " 19  fractal dimension error  569 non-null    float64\n",
      " 20  worst radius             569 non-null    float64\n",
      " 21  worst texture            569 non-null    float64\n",
      " 22  worst perimeter          569 non-null    float64\n",
      " 23  worst area               569 non-null    float64\n",
      " 24  worst smoothness         569 non-null    float64\n",
      " 25  worst compactness        569 non-null    float64\n",
      " 26  worst concavity          569 non-null    float64\n",
      " 27  worst concave points     569 non-null    float64\n",
      " 28  worst symmetry           569 non-null    float64\n",
      " 29  worst fractal dimension  569 non-null    float64\n",
      " 30  label                    569 non-null    int64  \n",
      "dtypes: float64(30), int64(1)\n",
      "memory usage: 137.9 KB\n"
     ]
    }
   ],
   "source": [
    "# getting some information about the data\n",
    "data_frame.info()"
   ]
  },
  {
   "cell_type": "code",
   "execution_count": 10,
   "id": "a6fc73e3",
   "metadata": {
    "execution": {
     "iopub.execute_input": "2024-09-06T05:03:07.041332Z",
     "iopub.status.busy": "2024-09-06T05:03:07.040868Z",
     "iopub.status.idle": "2024-09-06T05:03:07.051690Z",
     "shell.execute_reply": "2024-09-06T05:03:07.050396Z"
    },
    "executionInfo": {
     "elapsed": 7,
     "status": "ok",
     "timestamp": 1719654151549,
     "user": {
      "displayName": "Reetika Jena",
      "userId": "02969832017266581211"
     },
     "user_tz": -330
    },
    "id": "QVyHaAm7SwmI",
    "outputId": "c3da03d7-92f1-4fa5-a94c-c132c5605f95",
    "papermill": {
     "duration": 0.032202,
     "end_time": "2024-09-06T05:03:07.054258",
     "exception": false,
     "start_time": "2024-09-06T05:03:07.022056",
     "status": "completed"
    },
    "tags": []
   },
   "outputs": [
    {
     "data": {
      "text/plain": [
       "mean radius                0\n",
       "mean texture               0\n",
       "mean perimeter             0\n",
       "mean area                  0\n",
       "mean smoothness            0\n",
       "mean compactness           0\n",
       "mean concavity             0\n",
       "mean concave points        0\n",
       "mean symmetry              0\n",
       "mean fractal dimension     0\n",
       "radius error               0\n",
       "texture error              0\n",
       "perimeter error            0\n",
       "area error                 0\n",
       "smoothness error           0\n",
       "compactness error          0\n",
       "concavity error            0\n",
       "concave points error       0\n",
       "symmetry error             0\n",
       "fractal dimension error    0\n",
       "worst radius               0\n",
       "worst texture              0\n",
       "worst perimeter            0\n",
       "worst area                 0\n",
       "worst smoothness           0\n",
       "worst compactness          0\n",
       "worst concavity            0\n",
       "worst concave points       0\n",
       "worst symmetry             0\n",
       "worst fractal dimension    0\n",
       "label                      0\n",
       "dtype: int64"
      ]
     },
     "execution_count": 10,
     "metadata": {},
     "output_type": "execute_result"
    }
   ],
   "source": [
    "# checking for missing values\n",
    "data_frame.isnull().sum()"
   ]
  },
  {
   "cell_type": "code",
   "execution_count": 11,
   "id": "63176ba3",
   "metadata": {
    "execution": {
     "iopub.execute_input": "2024-09-06T05:03:07.090826Z",
     "iopub.status.busy": "2024-09-06T05:03:07.090355Z",
     "iopub.status.idle": "2024-09-06T05:03:07.183981Z",
     "shell.execute_reply": "2024-09-06T05:03:07.182646Z"
    },
    "executionInfo": {
     "elapsed": 5,
     "status": "ok",
     "timestamp": 1719654153477,
     "user": {
      "displayName": "Reetika Jena",
      "userId": "02969832017266581211"
     },
     "user_tz": -330
    },
    "id": "8dkTm2mKSwoc",
    "outputId": "1251b6cf-2e02-4b79-df1e-c16c2dcdd172",
    "papermill": {
     "duration": 0.115012,
     "end_time": "2024-09-06T05:03:07.186523",
     "exception": false,
     "start_time": "2024-09-06T05:03:07.071511",
     "status": "completed"
    },
    "tags": []
   },
   "outputs": [
    {
     "data": {
      "text/html": [
       "<div>\n",
       "<style scoped>\n",
       "    .dataframe tbody tr th:only-of-type {\n",
       "        vertical-align: middle;\n",
       "    }\n",
       "\n",
       "    .dataframe tbody tr th {\n",
       "        vertical-align: top;\n",
       "    }\n",
       "\n",
       "    .dataframe thead th {\n",
       "        text-align: right;\n",
       "    }\n",
       "</style>\n",
       "<table border=\"1\" class=\"dataframe\">\n",
       "  <thead>\n",
       "    <tr style=\"text-align: right;\">\n",
       "      <th></th>\n",
       "      <th>mean radius</th>\n",
       "      <th>mean texture</th>\n",
       "      <th>mean perimeter</th>\n",
       "      <th>mean area</th>\n",
       "      <th>mean smoothness</th>\n",
       "      <th>mean compactness</th>\n",
       "      <th>mean concavity</th>\n",
       "      <th>mean concave points</th>\n",
       "      <th>mean symmetry</th>\n",
       "      <th>mean fractal dimension</th>\n",
       "      <th>...</th>\n",
       "      <th>worst texture</th>\n",
       "      <th>worst perimeter</th>\n",
       "      <th>worst area</th>\n",
       "      <th>worst smoothness</th>\n",
       "      <th>worst compactness</th>\n",
       "      <th>worst concavity</th>\n",
       "      <th>worst concave points</th>\n",
       "      <th>worst symmetry</th>\n",
       "      <th>worst fractal dimension</th>\n",
       "      <th>label</th>\n",
       "    </tr>\n",
       "  </thead>\n",
       "  <tbody>\n",
       "    <tr>\n",
       "      <th>count</th>\n",
       "      <td>569.000000</td>\n",
       "      <td>569.000000</td>\n",
       "      <td>569.000000</td>\n",
       "      <td>569.000000</td>\n",
       "      <td>569.000000</td>\n",
       "      <td>569.000000</td>\n",
       "      <td>569.000000</td>\n",
       "      <td>569.000000</td>\n",
       "      <td>569.000000</td>\n",
       "      <td>569.000000</td>\n",
       "      <td>...</td>\n",
       "      <td>569.000000</td>\n",
       "      <td>569.000000</td>\n",
       "      <td>569.000000</td>\n",
       "      <td>569.000000</td>\n",
       "      <td>569.000000</td>\n",
       "      <td>569.000000</td>\n",
       "      <td>569.000000</td>\n",
       "      <td>569.000000</td>\n",
       "      <td>569.000000</td>\n",
       "      <td>569.000000</td>\n",
       "    </tr>\n",
       "    <tr>\n",
       "      <th>mean</th>\n",
       "      <td>14.127292</td>\n",
       "      <td>19.289649</td>\n",
       "      <td>91.969033</td>\n",
       "      <td>654.889104</td>\n",
       "      <td>0.096360</td>\n",
       "      <td>0.104341</td>\n",
       "      <td>0.088799</td>\n",
       "      <td>0.048919</td>\n",
       "      <td>0.181162</td>\n",
       "      <td>0.062798</td>\n",
       "      <td>...</td>\n",
       "      <td>25.677223</td>\n",
       "      <td>107.261213</td>\n",
       "      <td>880.583128</td>\n",
       "      <td>0.132369</td>\n",
       "      <td>0.254265</td>\n",
       "      <td>0.272188</td>\n",
       "      <td>0.114606</td>\n",
       "      <td>0.290076</td>\n",
       "      <td>0.083946</td>\n",
       "      <td>0.627417</td>\n",
       "    </tr>\n",
       "    <tr>\n",
       "      <th>std</th>\n",
       "      <td>3.524049</td>\n",
       "      <td>4.301036</td>\n",
       "      <td>24.298981</td>\n",
       "      <td>351.914129</td>\n",
       "      <td>0.014064</td>\n",
       "      <td>0.052813</td>\n",
       "      <td>0.079720</td>\n",
       "      <td>0.038803</td>\n",
       "      <td>0.027414</td>\n",
       "      <td>0.007060</td>\n",
       "      <td>...</td>\n",
       "      <td>6.146258</td>\n",
       "      <td>33.602542</td>\n",
       "      <td>569.356993</td>\n",
       "      <td>0.022832</td>\n",
       "      <td>0.157336</td>\n",
       "      <td>0.208624</td>\n",
       "      <td>0.065732</td>\n",
       "      <td>0.061867</td>\n",
       "      <td>0.018061</td>\n",
       "      <td>0.483918</td>\n",
       "    </tr>\n",
       "    <tr>\n",
       "      <th>min</th>\n",
       "      <td>6.981000</td>\n",
       "      <td>9.710000</td>\n",
       "      <td>43.790000</td>\n",
       "      <td>143.500000</td>\n",
       "      <td>0.052630</td>\n",
       "      <td>0.019380</td>\n",
       "      <td>0.000000</td>\n",
       "      <td>0.000000</td>\n",
       "      <td>0.106000</td>\n",
       "      <td>0.049960</td>\n",
       "      <td>...</td>\n",
       "      <td>12.020000</td>\n",
       "      <td>50.410000</td>\n",
       "      <td>185.200000</td>\n",
       "      <td>0.071170</td>\n",
       "      <td>0.027290</td>\n",
       "      <td>0.000000</td>\n",
       "      <td>0.000000</td>\n",
       "      <td>0.156500</td>\n",
       "      <td>0.055040</td>\n",
       "      <td>0.000000</td>\n",
       "    </tr>\n",
       "    <tr>\n",
       "      <th>25%</th>\n",
       "      <td>11.700000</td>\n",
       "      <td>16.170000</td>\n",
       "      <td>75.170000</td>\n",
       "      <td>420.300000</td>\n",
       "      <td>0.086370</td>\n",
       "      <td>0.064920</td>\n",
       "      <td>0.029560</td>\n",
       "      <td>0.020310</td>\n",
       "      <td>0.161900</td>\n",
       "      <td>0.057700</td>\n",
       "      <td>...</td>\n",
       "      <td>21.080000</td>\n",
       "      <td>84.110000</td>\n",
       "      <td>515.300000</td>\n",
       "      <td>0.116600</td>\n",
       "      <td>0.147200</td>\n",
       "      <td>0.114500</td>\n",
       "      <td>0.064930</td>\n",
       "      <td>0.250400</td>\n",
       "      <td>0.071460</td>\n",
       "      <td>0.000000</td>\n",
       "    </tr>\n",
       "    <tr>\n",
       "      <th>50%</th>\n",
       "      <td>13.370000</td>\n",
       "      <td>18.840000</td>\n",
       "      <td>86.240000</td>\n",
       "      <td>551.100000</td>\n",
       "      <td>0.095870</td>\n",
       "      <td>0.092630</td>\n",
       "      <td>0.061540</td>\n",
       "      <td>0.033500</td>\n",
       "      <td>0.179200</td>\n",
       "      <td>0.061540</td>\n",
       "      <td>...</td>\n",
       "      <td>25.410000</td>\n",
       "      <td>97.660000</td>\n",
       "      <td>686.500000</td>\n",
       "      <td>0.131300</td>\n",
       "      <td>0.211900</td>\n",
       "      <td>0.226700</td>\n",
       "      <td>0.099930</td>\n",
       "      <td>0.282200</td>\n",
       "      <td>0.080040</td>\n",
       "      <td>1.000000</td>\n",
       "    </tr>\n",
       "    <tr>\n",
       "      <th>75%</th>\n",
       "      <td>15.780000</td>\n",
       "      <td>21.800000</td>\n",
       "      <td>104.100000</td>\n",
       "      <td>782.700000</td>\n",
       "      <td>0.105300</td>\n",
       "      <td>0.130400</td>\n",
       "      <td>0.130700</td>\n",
       "      <td>0.074000</td>\n",
       "      <td>0.195700</td>\n",
       "      <td>0.066120</td>\n",
       "      <td>...</td>\n",
       "      <td>29.720000</td>\n",
       "      <td>125.400000</td>\n",
       "      <td>1084.000000</td>\n",
       "      <td>0.146000</td>\n",
       "      <td>0.339100</td>\n",
       "      <td>0.382900</td>\n",
       "      <td>0.161400</td>\n",
       "      <td>0.317900</td>\n",
       "      <td>0.092080</td>\n",
       "      <td>1.000000</td>\n",
       "    </tr>\n",
       "    <tr>\n",
       "      <th>max</th>\n",
       "      <td>28.110000</td>\n",
       "      <td>39.280000</td>\n",
       "      <td>188.500000</td>\n",
       "      <td>2501.000000</td>\n",
       "      <td>0.163400</td>\n",
       "      <td>0.345400</td>\n",
       "      <td>0.426800</td>\n",
       "      <td>0.201200</td>\n",
       "      <td>0.304000</td>\n",
       "      <td>0.097440</td>\n",
       "      <td>...</td>\n",
       "      <td>49.540000</td>\n",
       "      <td>251.200000</td>\n",
       "      <td>4254.000000</td>\n",
       "      <td>0.222600</td>\n",
       "      <td>1.058000</td>\n",
       "      <td>1.252000</td>\n",
       "      <td>0.291000</td>\n",
       "      <td>0.663800</td>\n",
       "      <td>0.207500</td>\n",
       "      <td>1.000000</td>\n",
       "    </tr>\n",
       "  </tbody>\n",
       "</table>\n",
       "<p>8 rows × 31 columns</p>\n",
       "</div>"
      ],
      "text/plain": [
       "       mean radius  mean texture  mean perimeter    mean area  \\\n",
       "count   569.000000    569.000000      569.000000   569.000000   \n",
       "mean     14.127292     19.289649       91.969033   654.889104   \n",
       "std       3.524049      4.301036       24.298981   351.914129   \n",
       "min       6.981000      9.710000       43.790000   143.500000   \n",
       "25%      11.700000     16.170000       75.170000   420.300000   \n",
       "50%      13.370000     18.840000       86.240000   551.100000   \n",
       "75%      15.780000     21.800000      104.100000   782.700000   \n",
       "max      28.110000     39.280000      188.500000  2501.000000   \n",
       "\n",
       "       mean smoothness  mean compactness  mean concavity  mean concave points  \\\n",
       "count       569.000000        569.000000      569.000000           569.000000   \n",
       "mean          0.096360          0.104341        0.088799             0.048919   \n",
       "std           0.014064          0.052813        0.079720             0.038803   \n",
       "min           0.052630          0.019380        0.000000             0.000000   \n",
       "25%           0.086370          0.064920        0.029560             0.020310   \n",
       "50%           0.095870          0.092630        0.061540             0.033500   \n",
       "75%           0.105300          0.130400        0.130700             0.074000   \n",
       "max           0.163400          0.345400        0.426800             0.201200   \n",
       "\n",
       "       mean symmetry  mean fractal dimension  ...  worst texture  \\\n",
       "count     569.000000              569.000000  ...     569.000000   \n",
       "mean        0.181162                0.062798  ...      25.677223   \n",
       "std         0.027414                0.007060  ...       6.146258   \n",
       "min         0.106000                0.049960  ...      12.020000   \n",
       "25%         0.161900                0.057700  ...      21.080000   \n",
       "50%         0.179200                0.061540  ...      25.410000   \n",
       "75%         0.195700                0.066120  ...      29.720000   \n",
       "max         0.304000                0.097440  ...      49.540000   \n",
       "\n",
       "       worst perimeter   worst area  worst smoothness  worst compactness  \\\n",
       "count       569.000000   569.000000        569.000000         569.000000   \n",
       "mean        107.261213   880.583128          0.132369           0.254265   \n",
       "std          33.602542   569.356993          0.022832           0.157336   \n",
       "min          50.410000   185.200000          0.071170           0.027290   \n",
       "25%          84.110000   515.300000          0.116600           0.147200   \n",
       "50%          97.660000   686.500000          0.131300           0.211900   \n",
       "75%         125.400000  1084.000000          0.146000           0.339100   \n",
       "max         251.200000  4254.000000          0.222600           1.058000   \n",
       "\n",
       "       worst concavity  worst concave points  worst symmetry  \\\n",
       "count       569.000000            569.000000      569.000000   \n",
       "mean          0.272188              0.114606        0.290076   \n",
       "std           0.208624              0.065732        0.061867   \n",
       "min           0.000000              0.000000        0.156500   \n",
       "25%           0.114500              0.064930        0.250400   \n",
       "50%           0.226700              0.099930        0.282200   \n",
       "75%           0.382900              0.161400        0.317900   \n",
       "max           1.252000              0.291000        0.663800   \n",
       "\n",
       "       worst fractal dimension       label  \n",
       "count               569.000000  569.000000  \n",
       "mean                  0.083946    0.627417  \n",
       "std                   0.018061    0.483918  \n",
       "min                   0.055040    0.000000  \n",
       "25%                   0.071460    0.000000  \n",
       "50%                   0.080040    1.000000  \n",
       "75%                   0.092080    1.000000  \n",
       "max                   0.207500    1.000000  \n",
       "\n",
       "[8 rows x 31 columns]"
      ]
     },
     "execution_count": 11,
     "metadata": {},
     "output_type": "execute_result"
    }
   ],
   "source": [
    "# statistical measures about the data\n",
    "data_frame.describe()"
   ]
  },
  {
   "cell_type": "code",
   "execution_count": 12,
   "id": "92f822bf",
   "metadata": {
    "execution": {
     "iopub.execute_input": "2024-09-06T05:03:07.224879Z",
     "iopub.status.busy": "2024-09-06T05:03:07.224166Z",
     "iopub.status.idle": "2024-09-06T05:03:07.237169Z",
     "shell.execute_reply": "2024-09-06T05:03:07.235707Z"
    },
    "executionInfo": {
     "elapsed": 6,
     "status": "ok",
     "timestamp": 1719654155496,
     "user": {
      "displayName": "Reetika Jena",
      "userId": "02969832017266581211"
     },
     "user_tz": -330
    },
    "id": "MG4O_vkwSwr3",
    "outputId": "91e4e575-569a-48d0-a921-c3b981d679cf",
    "papermill": {
     "duration": 0.035191,
     "end_time": "2024-09-06T05:03:07.239762",
     "exception": false,
     "start_time": "2024-09-06T05:03:07.204571",
     "status": "completed"
    },
    "tags": []
   },
   "outputs": [
    {
     "data": {
      "text/plain": [
       "label\n",
       "1    357\n",
       "0    212\n",
       "Name: count, dtype: int64"
      ]
     },
     "execution_count": 12,
     "metadata": {},
     "output_type": "execute_result"
    }
   ],
   "source": [
    "# checking the distribution of Target Varibale\n",
    "data_frame['label'].value_counts()"
   ]
  },
  {
   "cell_type": "markdown",
   "id": "920bcb99",
   "metadata": {
    "id": "HGePi3uCW36O",
    "papermill": {
     "duration": 0.019184,
     "end_time": "2024-09-06T05:03:07.277284",
     "exception": false,
     "start_time": "2024-09-06T05:03:07.258100",
     "status": "completed"
    },
    "tags": []
   },
   "source": [
    "1 --> Benign\n",
    "\n",
    "0 --> Malignant"
   ]
  },
  {
   "cell_type": "code",
   "execution_count": 13,
   "id": "184b37e1",
   "metadata": {
    "execution": {
     "iopub.execute_input": "2024-09-06T05:03:07.315268Z",
     "iopub.status.busy": "2024-09-06T05:03:07.314860Z",
     "iopub.status.idle": "2024-09-06T05:03:07.344501Z",
     "shell.execute_reply": "2024-09-06T05:03:07.343264Z"
    },
    "executionInfo": {
     "elapsed": 7,
     "status": "ok",
     "timestamp": 1719654158369,
     "user": {
      "displayName": "Reetika Jena",
      "userId": "02969832017266581211"
     },
     "user_tz": -330
    },
    "id": "QyD8la9GS4bc",
    "outputId": "3e736666-f037-4f81-eb00-7cffca31573f",
    "papermill": {
     "duration": 0.051815,
     "end_time": "2024-09-06T05:03:07.347165",
     "exception": false,
     "start_time": "2024-09-06T05:03:07.295350",
     "status": "completed"
    },
    "tags": []
   },
   "outputs": [
    {
     "data": {
      "text/html": [
       "<div>\n",
       "<style scoped>\n",
       "    .dataframe tbody tr th:only-of-type {\n",
       "        vertical-align: middle;\n",
       "    }\n",
       "\n",
       "    .dataframe tbody tr th {\n",
       "        vertical-align: top;\n",
       "    }\n",
       "\n",
       "    .dataframe thead th {\n",
       "        text-align: right;\n",
       "    }\n",
       "</style>\n",
       "<table border=\"1\" class=\"dataframe\">\n",
       "  <thead>\n",
       "    <tr style=\"text-align: right;\">\n",
       "      <th></th>\n",
       "      <th>mean radius</th>\n",
       "      <th>mean texture</th>\n",
       "      <th>mean perimeter</th>\n",
       "      <th>mean area</th>\n",
       "      <th>mean smoothness</th>\n",
       "      <th>mean compactness</th>\n",
       "      <th>mean concavity</th>\n",
       "      <th>mean concave points</th>\n",
       "      <th>mean symmetry</th>\n",
       "      <th>mean fractal dimension</th>\n",
       "      <th>...</th>\n",
       "      <th>worst radius</th>\n",
       "      <th>worst texture</th>\n",
       "      <th>worst perimeter</th>\n",
       "      <th>worst area</th>\n",
       "      <th>worst smoothness</th>\n",
       "      <th>worst compactness</th>\n",
       "      <th>worst concavity</th>\n",
       "      <th>worst concave points</th>\n",
       "      <th>worst symmetry</th>\n",
       "      <th>worst fractal dimension</th>\n",
       "    </tr>\n",
       "    <tr>\n",
       "      <th>label</th>\n",
       "      <th></th>\n",
       "      <th></th>\n",
       "      <th></th>\n",
       "      <th></th>\n",
       "      <th></th>\n",
       "      <th></th>\n",
       "      <th></th>\n",
       "      <th></th>\n",
       "      <th></th>\n",
       "      <th></th>\n",
       "      <th></th>\n",
       "      <th></th>\n",
       "      <th></th>\n",
       "      <th></th>\n",
       "      <th></th>\n",
       "      <th></th>\n",
       "      <th></th>\n",
       "      <th></th>\n",
       "      <th></th>\n",
       "      <th></th>\n",
       "      <th></th>\n",
       "    </tr>\n",
       "  </thead>\n",
       "  <tbody>\n",
       "    <tr>\n",
       "      <th>0</th>\n",
       "      <td>17.462830</td>\n",
       "      <td>21.604906</td>\n",
       "      <td>115.365377</td>\n",
       "      <td>978.376415</td>\n",
       "      <td>0.102898</td>\n",
       "      <td>0.145188</td>\n",
       "      <td>0.160775</td>\n",
       "      <td>0.087990</td>\n",
       "      <td>0.192909</td>\n",
       "      <td>0.062680</td>\n",
       "      <td>...</td>\n",
       "      <td>21.134811</td>\n",
       "      <td>29.318208</td>\n",
       "      <td>141.370330</td>\n",
       "      <td>1422.286321</td>\n",
       "      <td>0.144845</td>\n",
       "      <td>0.374824</td>\n",
       "      <td>0.450606</td>\n",
       "      <td>0.182237</td>\n",
       "      <td>0.323468</td>\n",
       "      <td>0.091530</td>\n",
       "    </tr>\n",
       "    <tr>\n",
       "      <th>1</th>\n",
       "      <td>12.146524</td>\n",
       "      <td>17.914762</td>\n",
       "      <td>78.075406</td>\n",
       "      <td>462.790196</td>\n",
       "      <td>0.092478</td>\n",
       "      <td>0.080085</td>\n",
       "      <td>0.046058</td>\n",
       "      <td>0.025717</td>\n",
       "      <td>0.174186</td>\n",
       "      <td>0.062867</td>\n",
       "      <td>...</td>\n",
       "      <td>13.379801</td>\n",
       "      <td>23.515070</td>\n",
       "      <td>87.005938</td>\n",
       "      <td>558.899440</td>\n",
       "      <td>0.124959</td>\n",
       "      <td>0.182673</td>\n",
       "      <td>0.166238</td>\n",
       "      <td>0.074444</td>\n",
       "      <td>0.270246</td>\n",
       "      <td>0.079442</td>\n",
       "    </tr>\n",
       "  </tbody>\n",
       "</table>\n",
       "<p>2 rows × 30 columns</p>\n",
       "</div>"
      ],
      "text/plain": [
       "       mean radius  mean texture  mean perimeter   mean area  mean smoothness  \\\n",
       "label                                                                           \n",
       "0        17.462830     21.604906      115.365377  978.376415         0.102898   \n",
       "1        12.146524     17.914762       78.075406  462.790196         0.092478   \n",
       "\n",
       "       mean compactness  mean concavity  mean concave points  mean symmetry  \\\n",
       "label                                                                         \n",
       "0              0.145188        0.160775             0.087990       0.192909   \n",
       "1              0.080085        0.046058             0.025717       0.174186   \n",
       "\n",
       "       mean fractal dimension  ...  worst radius  worst texture  \\\n",
       "label                          ...                                \n",
       "0                    0.062680  ...     21.134811      29.318208   \n",
       "1                    0.062867  ...     13.379801      23.515070   \n",
       "\n",
       "       worst perimeter   worst area  worst smoothness  worst compactness  \\\n",
       "label                                                                      \n",
       "0           141.370330  1422.286321          0.144845           0.374824   \n",
       "1            87.005938   558.899440          0.124959           0.182673   \n",
       "\n",
       "       worst concavity  worst concave points  worst symmetry  \\\n",
       "label                                                          \n",
       "0             0.450606              0.182237        0.323468   \n",
       "1             0.166238              0.074444        0.270246   \n",
       "\n",
       "       worst fractal dimension  \n",
       "label                           \n",
       "0                     0.091530  \n",
       "1                     0.079442  \n",
       "\n",
       "[2 rows x 30 columns]"
      ]
     },
     "execution_count": 13,
     "metadata": {},
     "output_type": "execute_result"
    }
   ],
   "source": [
    "data_frame.groupby('label').mean()"
   ]
  },
  {
   "cell_type": "markdown",
   "id": "8f5cdba0",
   "metadata": {
    "id": "xjtWhCL9XUC-",
    "papermill": {
     "duration": 0.018264,
     "end_time": "2024-09-06T05:03:07.384648",
     "exception": false,
     "start_time": "2024-09-06T05:03:07.366384",
     "status": "completed"
    },
    "tags": []
   },
   "source": [
    "Separating the features and target\n"
   ]
  },
  {
   "cell_type": "code",
   "execution_count": 14,
   "id": "82a6ae6f",
   "metadata": {
    "execution": {
     "iopub.execute_input": "2024-09-06T05:03:07.426041Z",
     "iopub.status.busy": "2024-09-06T05:03:07.425566Z",
     "iopub.status.idle": "2024-09-06T05:03:07.433109Z",
     "shell.execute_reply": "2024-09-06T05:03:07.431700Z"
    },
    "executionInfo": {
     "elapsed": 3,
     "status": "ok",
     "timestamp": 1719654159826,
     "user": {
      "displayName": "Reetika Jena",
      "userId": "02969832017266581211"
     },
     "user_tz": -330
    },
    "id": "uP_opMIxS4eB",
    "papermill": {
     "duration": 0.03075,
     "end_time": "2024-09-06T05:03:07.435792",
     "exception": false,
     "start_time": "2024-09-06T05:03:07.405042",
     "status": "completed"
    },
    "tags": []
   },
   "outputs": [],
   "source": [
    "X = data_frame.drop(columns='label', axis=1)\n",
    "Y = data_frame['label']"
   ]
  },
  {
   "cell_type": "code",
   "execution_count": 15,
   "id": "9da6a274",
   "metadata": {
    "execution": {
     "iopub.execute_input": "2024-09-06T05:03:07.475552Z",
     "iopub.status.busy": "2024-09-06T05:03:07.475141Z",
     "iopub.status.idle": "2024-09-06T05:03:07.496146Z",
     "shell.execute_reply": "2024-09-06T05:03:07.494958Z"
    },
    "executionInfo": {
     "elapsed": 4,
     "status": "ok",
     "timestamp": 1719654160822,
     "user": {
      "displayName": "Reetika Jena",
      "userId": "02969832017266581211"
     },
     "user_tz": -330
    },
    "id": "c7wCTlYfS4hd",
    "outputId": "82eedb96-1cca-47b4-9cef-19cc8771cc2c",
    "papermill": {
     "duration": 0.044479,
     "end_time": "2024-09-06T05:03:07.499590",
     "exception": false,
     "start_time": "2024-09-06T05:03:07.455111",
     "status": "completed"
    },
    "tags": []
   },
   "outputs": [
    {
     "name": "stdout",
     "output_type": "stream",
     "text": [
      "     mean radius  mean texture  mean perimeter  mean area  mean smoothness  \\\n",
      "0          17.99         10.38          122.80     1001.0          0.11840   \n",
      "1          20.57         17.77          132.90     1326.0          0.08474   \n",
      "2          19.69         21.25          130.00     1203.0          0.10960   \n",
      "3          11.42         20.38           77.58      386.1          0.14250   \n",
      "4          20.29         14.34          135.10     1297.0          0.10030   \n",
      "..           ...           ...             ...        ...              ...   \n",
      "564        21.56         22.39          142.00     1479.0          0.11100   \n",
      "565        20.13         28.25          131.20     1261.0          0.09780   \n",
      "566        16.60         28.08          108.30      858.1          0.08455   \n",
      "567        20.60         29.33          140.10     1265.0          0.11780   \n",
      "568         7.76         24.54           47.92      181.0          0.05263   \n",
      "\n",
      "     mean compactness  mean concavity  mean concave points  mean symmetry  \\\n",
      "0             0.27760         0.30010              0.14710         0.2419   \n",
      "1             0.07864         0.08690              0.07017         0.1812   \n",
      "2             0.15990         0.19740              0.12790         0.2069   \n",
      "3             0.28390         0.24140              0.10520         0.2597   \n",
      "4             0.13280         0.19800              0.10430         0.1809   \n",
      "..                ...             ...                  ...            ...   \n",
      "564           0.11590         0.24390              0.13890         0.1726   \n",
      "565           0.10340         0.14400              0.09791         0.1752   \n",
      "566           0.10230         0.09251              0.05302         0.1590   \n",
      "567           0.27700         0.35140              0.15200         0.2397   \n",
      "568           0.04362         0.00000              0.00000         0.1587   \n",
      "\n",
      "     mean fractal dimension  ...  worst radius  worst texture  \\\n",
      "0                   0.07871  ...        25.380          17.33   \n",
      "1                   0.05667  ...        24.990          23.41   \n",
      "2                   0.05999  ...        23.570          25.53   \n",
      "3                   0.09744  ...        14.910          26.50   \n",
      "4                   0.05883  ...        22.540          16.67   \n",
      "..                      ...  ...           ...            ...   \n",
      "564                 0.05623  ...        25.450          26.40   \n",
      "565                 0.05533  ...        23.690          38.25   \n",
      "566                 0.05648  ...        18.980          34.12   \n",
      "567                 0.07016  ...        25.740          39.42   \n",
      "568                 0.05884  ...         9.456          30.37   \n",
      "\n",
      "     worst perimeter  worst area  worst smoothness  worst compactness  \\\n",
      "0             184.60      2019.0           0.16220            0.66560   \n",
      "1             158.80      1956.0           0.12380            0.18660   \n",
      "2             152.50      1709.0           0.14440            0.42450   \n",
      "3              98.87       567.7           0.20980            0.86630   \n",
      "4             152.20      1575.0           0.13740            0.20500   \n",
      "..               ...         ...               ...                ...   \n",
      "564           166.10      2027.0           0.14100            0.21130   \n",
      "565           155.00      1731.0           0.11660            0.19220   \n",
      "566           126.70      1124.0           0.11390            0.30940   \n",
      "567           184.60      1821.0           0.16500            0.86810   \n",
      "568            59.16       268.6           0.08996            0.06444   \n",
      "\n",
      "     worst concavity  worst concave points  worst symmetry  \\\n",
      "0             0.7119                0.2654          0.4601   \n",
      "1             0.2416                0.1860          0.2750   \n",
      "2             0.4504                0.2430          0.3613   \n",
      "3             0.6869                0.2575          0.6638   \n",
      "4             0.4000                0.1625          0.2364   \n",
      "..               ...                   ...             ...   \n",
      "564           0.4107                0.2216          0.2060   \n",
      "565           0.3215                0.1628          0.2572   \n",
      "566           0.3403                0.1418          0.2218   \n",
      "567           0.9387                0.2650          0.4087   \n",
      "568           0.0000                0.0000          0.2871   \n",
      "\n",
      "     worst fractal dimension  \n",
      "0                    0.11890  \n",
      "1                    0.08902  \n",
      "2                    0.08758  \n",
      "3                    0.17300  \n",
      "4                    0.07678  \n",
      "..                       ...  \n",
      "564                  0.07115  \n",
      "565                  0.06637  \n",
      "566                  0.07820  \n",
      "567                  0.12400  \n",
      "568                  0.07039  \n",
      "\n",
      "[569 rows x 30 columns]\n"
     ]
    }
   ],
   "source": [
    "print(X)"
   ]
  },
  {
   "cell_type": "code",
   "execution_count": 16,
   "id": "14585a2a",
   "metadata": {
    "execution": {
     "iopub.execute_input": "2024-09-06T05:03:07.541354Z",
     "iopub.status.busy": "2024-09-06T05:03:07.540942Z",
     "iopub.status.idle": "2024-09-06T05:03:07.548077Z",
     "shell.execute_reply": "2024-09-06T05:03:07.546911Z"
    },
    "executionInfo": {
     "elapsed": 2,
     "status": "ok",
     "timestamp": 1719654164763,
     "user": {
      "displayName": "Reetika Jena",
      "userId": "02969832017266581211"
     },
     "user_tz": -330
    },
    "id": "DXBueZD7TCor",
    "outputId": "0d6762fc-7f28-4e6d-d70c-feb584294452",
    "papermill": {
     "duration": 0.032222,
     "end_time": "2024-09-06T05:03:07.551145",
     "exception": false,
     "start_time": "2024-09-06T05:03:07.518923",
     "status": "completed"
    },
    "tags": []
   },
   "outputs": [
    {
     "name": "stdout",
     "output_type": "stream",
     "text": [
      "0      0\n",
      "1      0\n",
      "2      0\n",
      "3      0\n",
      "4      0\n",
      "      ..\n",
      "564    0\n",
      "565    0\n",
      "566    0\n",
      "567    0\n",
      "568    1\n",
      "Name: label, Length: 569, dtype: int64\n"
     ]
    }
   ],
   "source": [
    "print(Y)"
   ]
  },
  {
   "cell_type": "markdown",
   "id": "ec7193dc",
   "metadata": {
    "id": "witdT-KjXg3k",
    "papermill": {
     "duration": 0.019242,
     "end_time": "2024-09-06T05:03:07.589744",
     "exception": false,
     "start_time": "2024-09-06T05:03:07.570502",
     "status": "completed"
    },
    "tags": []
   },
   "source": [
    "Splitting the data into training data & Testing data\n",
    "\n",
    "\n"
   ]
  },
  {
   "cell_type": "code",
   "execution_count": 17,
   "id": "1b8e7891",
   "metadata": {
    "execution": {
     "iopub.execute_input": "2024-09-06T05:03:07.631145Z",
     "iopub.status.busy": "2024-09-06T05:03:07.630671Z",
     "iopub.status.idle": "2024-09-06T05:03:07.640370Z",
     "shell.execute_reply": "2024-09-06T05:03:07.639075Z"
    },
    "executionInfo": {
     "elapsed": 999,
     "status": "ok",
     "timestamp": 1719654167776,
     "user": {
      "displayName": "Reetika Jena",
      "userId": "02969832017266581211"
     },
     "user_tz": -330
    },
    "id": "_eX5cG_9TCq9",
    "papermill": {
     "duration": 0.03392,
     "end_time": "2024-09-06T05:03:07.642901",
     "exception": false,
     "start_time": "2024-09-06T05:03:07.608981",
     "status": "completed"
    },
    "tags": []
   },
   "outputs": [],
   "source": [
    "X_train, X_test, Y_train, Y_test = train_test_split(X, Y, test_size=0.2, random_state=2)"
   ]
  },
  {
   "cell_type": "code",
   "execution_count": 18,
   "id": "088c0171",
   "metadata": {
    "execution": {
     "iopub.execute_input": "2024-09-06T05:03:07.684650Z",
     "iopub.status.busy": "2024-09-06T05:03:07.684180Z",
     "iopub.status.idle": "2024-09-06T05:03:07.690946Z",
     "shell.execute_reply": "2024-09-06T05:03:07.689553Z"
    },
    "executionInfo": {
     "elapsed": 2,
     "status": "ok",
     "timestamp": 1719654168906,
     "user": {
      "displayName": "Reetika Jena",
      "userId": "02969832017266581211"
     },
     "user_tz": -330
    },
    "id": "CqAqx8oQTCuV",
    "outputId": "263fae06-9f6a-4d59-a2fc-f2ae50f46082",
    "papermill": {
     "duration": 0.03101,
     "end_time": "2024-09-06T05:03:07.693900",
     "exception": false,
     "start_time": "2024-09-06T05:03:07.662890",
     "status": "completed"
    },
    "tags": []
   },
   "outputs": [
    {
     "name": "stdout",
     "output_type": "stream",
     "text": [
      "(569, 30) (455, 30) (114, 30)\n"
     ]
    }
   ],
   "source": [
    "print(X.shape, X_train.shape, X_test.shape)"
   ]
  },
  {
   "cell_type": "markdown",
   "id": "ed3139cf",
   "metadata": {
    "id": "kxl3CzVQXlw1",
    "papermill": {
     "duration": 0.020198,
     "end_time": "2024-09-06T05:03:07.733696",
     "exception": false,
     "start_time": "2024-09-06T05:03:07.713498",
     "status": "completed"
    },
    "tags": []
   },
   "source": [
    "Standardize the data"
   ]
  },
  {
   "cell_type": "code",
   "execution_count": 19,
   "id": "dea7b888",
   "metadata": {
    "execution": {
     "iopub.execute_input": "2024-09-06T05:03:07.776995Z",
     "iopub.status.busy": "2024-09-06T05:03:07.776548Z",
     "iopub.status.idle": "2024-09-06T05:03:07.782413Z",
     "shell.execute_reply": "2024-09-06T05:03:07.781273Z"
    },
    "executionInfo": {
     "elapsed": 3,
     "status": "ok",
     "timestamp": 1719654170861,
     "user": {
      "displayName": "Reetika Jena",
      "userId": "02969832017266581211"
     },
     "user_tz": -330
    },
    "id": "5sm2ez-cTOc-",
    "papermill": {
     "duration": 0.029859,
     "end_time": "2024-09-06T05:03:07.784876",
     "exception": false,
     "start_time": "2024-09-06T05:03:07.755017",
     "status": "completed"
    },
    "tags": []
   },
   "outputs": [],
   "source": [
    "from sklearn.preprocessing import StandardScaler"
   ]
  },
  {
   "cell_type": "code",
   "execution_count": 20,
   "id": "61123ce7",
   "metadata": {
    "execution": {
     "iopub.execute_input": "2024-09-06T05:03:07.826621Z",
     "iopub.status.busy": "2024-09-06T05:03:07.825476Z",
     "iopub.status.idle": "2024-09-06T05:03:07.838590Z",
     "shell.execute_reply": "2024-09-06T05:03:07.837443Z"
    },
    "executionInfo": {
     "elapsed": 2,
     "status": "ok",
     "timestamp": 1719654171884,
     "user": {
      "displayName": "Reetika Jena",
      "userId": "02969832017266581211"
     },
     "user_tz": -330
    },
    "id": "DtXsKZqrTOgP",
    "papermill": {
     "duration": 0.036681,
     "end_time": "2024-09-06T05:03:07.841217",
     "exception": false,
     "start_time": "2024-09-06T05:03:07.804536",
     "status": "completed"
    },
    "tags": []
   },
   "outputs": [],
   "source": [
    "scaler = StandardScaler()\n",
    "\n",
    "X_train_std = scaler.fit_transform(X_train)\n",
    "\n",
    "X_test_std = scaler.transform(X_test)"
   ]
  },
  {
   "cell_type": "markdown",
   "id": "b2548012",
   "metadata": {
    "id": "Pv5TPNJbXqzA",
    "papermill": {
     "duration": 0.019238,
     "end_time": "2024-09-06T05:03:07.880209",
     "exception": false,
     "start_time": "2024-09-06T05:03:07.860971",
     "status": "completed"
    },
    "tags": []
   },
   "source": [
    "**Building the Neural Network**"
   ]
  },
  {
   "cell_type": "code",
   "execution_count": 21,
   "id": "e55f8900",
   "metadata": {
    "execution": {
     "iopub.execute_input": "2024-09-06T05:03:07.921631Z",
     "iopub.status.busy": "2024-09-06T05:03:07.921148Z",
     "iopub.status.idle": "2024-09-06T05:03:22.912841Z",
     "shell.execute_reply": "2024-09-06T05:03:22.911529Z"
    },
    "executionInfo": {
     "elapsed": 3446,
     "status": "ok",
     "timestamp": 1719654177231,
     "user": {
      "displayName": "Reetika Jena",
      "userId": "02969832017266581211"
     },
     "user_tz": -330
    },
    "id": "AVGJJDbeTUSP",
    "papermill": {
     "duration": 15.015646,
     "end_time": "2024-09-06T05:03:22.915652",
     "exception": false,
     "start_time": "2024-09-06T05:03:07.900006",
     "status": "completed"
    },
    "tags": []
   },
   "outputs": [],
   "source": [
    "# importing tensorflow and Keras\n",
    "import tensorflow as tf\n",
    "tf.random.set_seed(3)\n",
    "from tensorflow import keras"
   ]
  },
  {
   "cell_type": "code",
   "execution_count": 22,
   "id": "ec178733",
   "metadata": {
    "execution": {
     "iopub.execute_input": "2024-09-06T05:03:22.957631Z",
     "iopub.status.busy": "2024-09-06T05:03:22.956858Z",
     "iopub.status.idle": "2024-09-06T05:03:23.115980Z",
     "shell.execute_reply": "2024-09-06T05:03:23.114662Z"
    },
    "executionInfo": {
     "elapsed": 6,
     "status": "ok",
     "timestamp": 1719654177232,
     "user": {
      "displayName": "Reetika Jena",
      "userId": "02969832017266581211"
     },
     "user_tz": -330
    },
    "id": "HMFxkuglTUUr",
    "papermill": {
     "duration": 0.183483,
     "end_time": "2024-09-06T05:03:23.119017",
     "exception": false,
     "start_time": "2024-09-06T05:03:22.935534",
     "status": "completed"
    },
    "tags": []
   },
   "outputs": [
    {
     "name": "stderr",
     "output_type": "stream",
     "text": [
      "/opt/conda/lib/python3.10/site-packages/keras/src/layers/reshaping/flatten.py:37: UserWarning: Do not pass an `input_shape`/`input_dim` argument to a layer. When using Sequential models, prefer using an `Input(shape)` object as the first layer in the model instead.\n",
      "  super().__init__(**kwargs)\n"
     ]
    }
   ],
   "source": [
    "# setting up the layers of Neural Network\n",
    "\n",
    "model = keras.Sequential([\n",
    "                          keras.layers.Flatten(input_shape=(30,)),\n",
    "                          keras.layers.Dense(20, activation='relu'),\n",
    "                          keras.layers.Dense(2, activation='sigmoid')\n",
    "])"
   ]
  },
  {
   "cell_type": "code",
   "execution_count": 23,
   "id": "e46b1427",
   "metadata": {
    "execution": {
     "iopub.execute_input": "2024-09-06T05:03:23.161854Z",
     "iopub.status.busy": "2024-09-06T05:03:23.161386Z",
     "iopub.status.idle": "2024-09-06T05:03:23.178022Z",
     "shell.execute_reply": "2024-09-06T05:03:23.176626Z"
    },
    "executionInfo": {
     "elapsed": 6,
     "status": "ok",
     "timestamp": 1719654177232,
     "user": {
      "displayName": "Reetika Jena",
      "userId": "02969832017266581211"
     },
     "user_tz": -330
    },
    "id": "mWc8el9uTUXU",
    "papermill": {
     "duration": 0.040687,
     "end_time": "2024-09-06T05:03:23.180832",
     "exception": false,
     "start_time": "2024-09-06T05:03:23.140145",
     "status": "completed"
    },
    "tags": []
   },
   "outputs": [],
   "source": [
    "# compiling the Neural Network\n",
    "\n",
    "model.compile(optimizer='adam',\n",
    "              loss='sparse_categorical_crossentropy',\n",
    "              metrics=['accuracy'])"
   ]
  },
  {
   "cell_type": "code",
   "execution_count": 24,
   "id": "965916aa",
   "metadata": {
    "execution": {
     "iopub.execute_input": "2024-09-06T05:03:23.222617Z",
     "iopub.status.busy": "2024-09-06T05:03:23.222166Z",
     "iopub.status.idle": "2024-09-06T05:03:25.156275Z",
     "shell.execute_reply": "2024-09-06T05:03:25.155164Z"
    },
    "executionInfo": {
     "elapsed": 1995,
     "status": "ok",
     "timestamp": 1719654181099,
     "user": {
      "displayName": "Reetika Jena",
      "userId": "02969832017266581211"
     },
     "user_tz": -330
    },
    "id": "QkBtHxj6TUa3",
    "outputId": "40054132-57cb-43b6-bbf0-a73681b5768f",
    "papermill": {
     "duration": 1.958299,
     "end_time": "2024-09-06T05:03:25.158961",
     "exception": false,
     "start_time": "2024-09-06T05:03:23.200662",
     "status": "completed"
    },
    "tags": []
   },
   "outputs": [
    {
     "name": "stdout",
     "output_type": "stream",
     "text": [
      "Epoch 1/10\n",
      "\u001b[1m13/13\u001b[0m \u001b[32m━━━━━━━━━━━━━━━━━━━━\u001b[0m\u001b[37m\u001b[0m \u001b[1m1s\u001b[0m 19ms/step - accuracy: 0.5484 - loss: 0.7040 - val_accuracy: 0.8261 - val_loss: 0.4433\n",
      "Epoch 2/10\n",
      "\u001b[1m13/13\u001b[0m \u001b[32m━━━━━━━━━━━━━━━━━━━━\u001b[0m\u001b[37m\u001b[0m \u001b[1m0s\u001b[0m 4ms/step - accuracy: 0.8313 - loss: 0.4275 - val_accuracy: 0.9565 - val_loss: 0.2748\n",
      "Epoch 3/10\n",
      "\u001b[1m13/13\u001b[0m \u001b[32m━━━━━━━━━━━━━━━━━━━━\u001b[0m\u001b[37m\u001b[0m \u001b[1m0s\u001b[0m 4ms/step - accuracy: 0.9174 - loss: 0.2924 - val_accuracy: 0.9783 - val_loss: 0.1976\n",
      "Epoch 4/10\n",
      "\u001b[1m13/13\u001b[0m \u001b[32m━━━━━━━━━━━━━━━━━━━━\u001b[0m\u001b[37m\u001b[0m \u001b[1m0s\u001b[0m 4ms/step - accuracy: 0.9358 - loss: 0.2273 - val_accuracy: 0.9783 - val_loss: 0.1602\n",
      "Epoch 5/10\n",
      "\u001b[1m13/13\u001b[0m \u001b[32m━━━━━━━━━━━━━━━━━━━━\u001b[0m\u001b[37m\u001b[0m \u001b[1m0s\u001b[0m 4ms/step - accuracy: 0.9475 - loss: 0.1910 - val_accuracy: 0.9783 - val_loss: 0.1394\n",
      "Epoch 6/10\n",
      "\u001b[1m13/13\u001b[0m \u001b[32m━━━━━━━━━━━━━━━━━━━━\u001b[0m\u001b[37m\u001b[0m \u001b[1m0s\u001b[0m 4ms/step - accuracy: 0.9488 - loss: 0.1672 - val_accuracy: 0.9783 - val_loss: 0.1258\n",
      "Epoch 7/10\n",
      "\u001b[1m13/13\u001b[0m \u001b[32m━━━━━━━━━━━━━━━━━━━━\u001b[0m\u001b[37m\u001b[0m \u001b[1m0s\u001b[0m 4ms/step - accuracy: 0.9527 - loss: 0.1498 - val_accuracy: 0.9783 - val_loss: 0.1159\n",
      "Epoch 8/10\n",
      "\u001b[1m13/13\u001b[0m \u001b[32m━━━━━━━━━━━━━━━━━━━━\u001b[0m\u001b[37m\u001b[0m \u001b[1m0s\u001b[0m 4ms/step - accuracy: 0.9536 - loss: 0.1363 - val_accuracy: 0.9783 - val_loss: 0.1082\n",
      "Epoch 9/10\n",
      "\u001b[1m13/13\u001b[0m \u001b[32m━━━━━━━━━━━━━━━━━━━━\u001b[0m\u001b[37m\u001b[0m \u001b[1m0s\u001b[0m 4ms/step - accuracy: 0.9548 - loss: 0.1252 - val_accuracy: 0.9783 - val_loss: 0.1022\n",
      "Epoch 10/10\n",
      "\u001b[1m13/13\u001b[0m \u001b[32m━━━━━━━━━━━━━━━━━━━━\u001b[0m\u001b[37m\u001b[0m \u001b[1m0s\u001b[0m 4ms/step - accuracy: 0.9618 - loss: 0.1161 - val_accuracy: 0.9783 - val_loss: 0.0973\n"
     ]
    }
   ],
   "source": [
    "# training the Meural Network\n",
    "\n",
    "history = model.fit(X_train_std, Y_train, validation_split=0.1, epochs=10)"
   ]
  },
  {
   "cell_type": "markdown",
   "id": "4047f518",
   "metadata": {
    "id": "B3DQjk4QXzE8",
    "papermill": {
     "duration": 0.022475,
     "end_time": "2024-09-06T05:03:25.204684",
     "exception": false,
     "start_time": "2024-09-06T05:03:25.182209",
     "status": "completed"
    },
    "tags": []
   },
   "source": [
    "Visualizing accuracy and loss"
   ]
  },
  {
   "cell_type": "code",
   "execution_count": 25,
   "id": "adae93e4",
   "metadata": {
    "execution": {
     "iopub.execute_input": "2024-09-06T05:03:25.251874Z",
     "iopub.status.busy": "2024-09-06T05:03:25.251411Z",
     "iopub.status.idle": "2024-09-06T05:03:25.602113Z",
     "shell.execute_reply": "2024-09-06T05:03:25.600989Z"
    },
    "executionInfo": {
     "elapsed": 10,
     "status": "ok",
     "timestamp": 1719654183454,
     "user": {
      "displayName": "Reetika Jena",
      "userId": "02969832017266581211"
     },
     "user_tz": -330
    },
    "id": "qSOke9CdTo9k",
    "outputId": "14fa0271-0771-4452-e17f-d829ac7a3e9d",
    "papermill": {
     "duration": 0.377213,
     "end_time": "2024-09-06T05:03:25.604667",
     "exception": false,
     "start_time": "2024-09-06T05:03:25.227454",
     "status": "completed"
    },
    "tags": []
   },
   "outputs": [
    {
     "data": {
      "text/plain": [
       "<matplotlib.legend.Legend at 0x7b2355368310>"
      ]
     },
     "execution_count": 25,
     "metadata": {},
     "output_type": "execute_result"
    },
    {
     "data": {
      "image/png": "[encoded data removed]",
      "text/plain": [
       "<Figure size 640x480 with 1 Axes>"
      ]
     },
     "metadata": {},
     "output_type": "display_data"
    }
   ],
   "source": [
    "plt.plot(history.history['accuracy'])\n",
    "plt.plot(history.history['val_accuracy'])\n",
    "\n",
    "plt.title('model accuracy')\n",
    "plt.ylabel('accuracy')\n",
    "plt.xlabel('epoch')\n",
    "\n",
    "plt.legend(['training data', 'validation data'], loc = 'lower right')"
   ]
  },
  {
   "cell_type": "markdown",
   "id": "100091f5",
   "metadata": {
    "id": "sJso5aQZX6hc",
    "papermill": {
     "duration": 0.023387,
     "end_time": "2024-09-06T05:03:25.652856",
     "exception": false,
     "start_time": "2024-09-06T05:03:25.629469",
     "status": "completed"
    },
    "tags": []
   },
   "source": [
    "Accuracy of the model on test data"
   ]
  },
  {
   "cell_type": "code",
   "execution_count": 26,
   "id": "cbf9f67c",
   "metadata": {
    "execution": {
     "iopub.execute_input": "2024-09-06T05:03:25.755537Z",
     "iopub.status.busy": "2024-09-06T05:03:25.755112Z",
     "iopub.status.idle": "2024-09-06T05:03:26.098406Z",
     "shell.execute_reply": "2024-09-06T05:03:26.097289Z"
    },
    "executionInfo": {
     "elapsed": 14,
     "status": "ok",
     "timestamp": 1719654192801,
     "user": {
      "displayName": "Reetika Jena",
      "userId": "02969832017266581211"
     },
     "user_tz": -330
    },
    "id": "-MJsBW20TpAh",
    "outputId": "ddf9aaff-26f9-4a99-a4e1-3e0809b7b931",
    "papermill": {
     "duration": 0.425335,
     "end_time": "2024-09-06T05:03:26.101794",
     "exception": false,
     "start_time": "2024-09-06T05:03:25.676459",
     "status": "completed"
    },
    "tags": []
   },
   "outputs": [
    {
     "data": {
      "text/plain": [
       "<matplotlib.legend.Legend at 0x7b23557416f0>"
      ]
     },
     "execution_count": 26,
     "metadata": {},
     "output_type": "execute_result"
    },
    {
     "data": {
      "image/png": "[encoded data removed]",
      "text/plain": [
       "<Figure size 640x480 with 1 Axes>"
      ]
     },
     "metadata": {},
     "output_type": "display_data"
    }
   ],
   "source": [
    "plt.plot(history.history['loss'])\n",
    "plt.plot(history.history['val_loss'])\n",
    "\n",
    "plt.title('model loss')\n",
    "plt.ylabel('loss')\n",
    "plt.xlabel('epoch')\n",
    "\n",
    "plt.legend(['training data', 'validation data'], loc = 'upper right')"
   ]
  },
  {
   "cell_type": "code",
   "execution_count": 27,
   "id": "e0ccc668",
   "metadata": {
    "execution": {
     "iopub.execute_input": "2024-09-06T05:03:26.156235Z",
     "iopub.status.busy": "2024-09-06T05:03:26.155774Z",
     "iopub.status.idle": "2024-09-06T05:03:26.249282Z",
     "shell.execute_reply": "2024-09-06T05:03:26.248035Z"
    },
    "executionInfo": {
     "elapsed": 4,
     "status": "ok",
     "timestamp": 1719654195621,
     "user": {
      "displayName": "Reetika Jena",
      "userId": "02969832017266581211"
     },
     "user_tz": -330
    },
    "id": "Ge7YE-t1TpDh",
    "outputId": "12aee256-215f-41d3-c4da-fa4fe72e302a",
    "papermill": {
     "duration": 0.122529,
     "end_time": "2024-09-06T05:03:26.251823",
     "exception": false,
     "start_time": "2024-09-06T05:03:26.129294",
     "status": "completed"
    },
    "tags": []
   },
   "outputs": [
    {
     "name": "stdout",
     "output_type": "stream",
     "text": [
      "\u001b[1m4/4\u001b[0m \u001b[32m━━━━━━━━━━━━━━━━━━━━\u001b[0m\u001b[37m\u001b[0m \u001b[1m0s\u001b[0m 3ms/step - accuracy: 0.9647 - loss: 0.1327 \n",
      "0.9561403393745422\n"
     ]
    }
   ],
   "source": [
    "loss, accuracy = model.evaluate(X_test_std, Y_test)\n",
    "print(accuracy)"
   ]
  },
  {
   "cell_type": "code",
   "execution_count": 28,
   "id": "ff50f5b4",
   "metadata": {
    "execution": {
     "iopub.execute_input": "2024-09-06T05:03:26.304013Z",
     "iopub.status.busy": "2024-09-06T05:03:26.302974Z",
     "iopub.status.idle": "2024-09-06T05:03:26.310391Z",
     "shell.execute_reply": "2024-09-06T05:03:26.309154Z"
    },
    "executionInfo": {
     "elapsed": 1433,
     "status": "ok",
     "timestamp": 1719654198087,
     "user": {
      "displayName": "Reetika Jena",
      "userId": "02969832017266581211"
     },
     "user_tz": -330
    },
    "id": "Xpdz2tmaTpHD",
    "outputId": "a697a771-a032-4748-f460-a17389da720a",
    "papermill": {
     "duration": 0.036074,
     "end_time": "2024-09-06T05:03:26.312807",
     "exception": false,
     "start_time": "2024-09-06T05:03:26.276733",
     "status": "completed"
    },
    "tags": []
   },
   "outputs": [
    {
     "name": "stdout",
     "output_type": "stream",
     "text": [
      "(114, 30)\n",
      "[-0.04462793 -1.41612656 -0.05903514 -0.16234067  2.0202457  -0.11323672\n",
      "  0.18500609  0.47102419  0.63336386  0.26335737  0.53209124  2.62763999\n",
      "  0.62351167  0.11405261  1.01246781  0.41126289  0.63848593  2.88971815\n",
      " -0.41675911  0.74270853 -0.32983699 -1.67435595 -0.36854552 -0.38767294\n",
      "  0.32655007 -0.74858917 -0.54689089 -0.18278004 -1.23064515 -0.6268286 ]\n"
     ]
    }
   ],
   "source": [
    "print(X_test_std.shape)\n",
    "print(X_test_std[0])"
   ]
  },
  {
   "cell_type": "code",
   "execution_count": 29,
   "id": "15c1922d",
   "metadata": {
    "execution": {
     "iopub.execute_input": "2024-09-06T05:03:26.365673Z",
     "iopub.status.busy": "2024-09-06T05:03:26.365233Z",
     "iopub.status.idle": "2024-09-06T05:03:26.522165Z",
     "shell.execute_reply": "2024-09-06T05:03:26.520897Z"
    },
    "executionInfo": {
     "elapsed": 1349,
     "status": "ok",
     "timestamp": 1719654200056,
     "user": {
      "displayName": "Reetika Jena",
      "userId": "02969832017266581211"
     },
     "user_tz": -330
    },
    "id": "x3BnsZtaT31w",
    "outputId": "7d89cebf-1b8c-4d4e-f396-ad5b0679d103",
    "papermill": {
     "duration": 0.187387,
     "end_time": "2024-09-06T05:03:26.525237",
     "exception": false,
     "start_time": "2024-09-06T05:03:26.337850",
     "status": "completed"
    },
    "tags": []
   },
   "outputs": [
    {
     "name": "stdout",
     "output_type": "stream",
     "text": [
      "\u001b[1m4/4\u001b[0m \u001b[32m━━━━━━━━━━━━━━━━━━━━\u001b[0m\u001b[37m\u001b[0m \u001b[1m0s\u001b[0m 11ms/step\n"
     ]
    }
   ],
   "source": [
    "Y_pred = model.predict(X_test_std)"
   ]
  },
  {
   "cell_type": "code",
   "execution_count": 30,
   "id": "9b887687",
   "metadata": {
    "execution": {
     "iopub.execute_input": "2024-09-06T05:03:26.578181Z",
     "iopub.status.busy": "2024-09-06T05:03:26.577774Z",
     "iopub.status.idle": "2024-09-06T05:03:26.583856Z",
     "shell.execute_reply": "2024-09-06T05:03:26.582753Z"
    },
    "executionInfo": {
     "elapsed": 3,
     "status": "ok",
     "timestamp": 1719654200056,
     "user": {
      "displayName": "Reetika Jena",
      "userId": "02969832017266581211"
     },
     "user_tz": -330
    },
    "id": "Od_68T5BT34b",
    "outputId": "4b9b75c9-ea7d-436d-ec6a-625d2e27fd07",
    "papermill": {
     "duration": 0.035545,
     "end_time": "2024-09-06T05:03:26.586645",
     "exception": false,
     "start_time": "2024-09-06T05:03:26.551100",
     "status": "completed"
    },
    "tags": []
   },
   "outputs": [
    {
     "name": "stdout",
     "output_type": "stream",
     "text": [
      "(114, 2)\n",
      "[0.19148244 0.71067494]\n"
     ]
    }
   ],
   "source": [
    "print(Y_pred.shape)\n",
    "print(Y_pred[0])"
   ]
  },
  {
   "cell_type": "code",
   "execution_count": 31,
   "id": "4362a26f",
   "metadata": {
    "execution": {
     "iopub.execute_input": "2024-09-06T05:03:26.639121Z",
     "iopub.status.busy": "2024-09-06T05:03:26.638662Z",
     "iopub.status.idle": "2024-09-06T05:03:26.645323Z",
     "shell.execute_reply": "2024-09-06T05:03:26.644153Z"
    },
    "executionInfo": {
     "elapsed": 2,
     "status": "ok",
     "timestamp": 1719654203575,
     "user": {
      "displayName": "Reetika Jena",
      "userId": "02969832017266581211"
     },
     "user_tz": -330
    },
    "id": "UmiJhM9bT369",
    "outputId": "4859d9e7-61ee-44b2-9d79-a7b6ff3dbea1",
    "papermill": {
     "duration": 0.03589,
     "end_time": "2024-09-06T05:03:26.647924",
     "exception": false,
     "start_time": "2024-09-06T05:03:26.612034",
     "status": "completed"
    },
    "tags": []
   },
   "outputs": [
    {
     "name": "stdout",
     "output_type": "stream",
     "text": [
      "[[-0.04462793 -1.41612656 -0.05903514 ... -0.18278004 -1.23064515\n",
      "  -0.6268286 ]\n",
      " [ 0.24583601 -0.06219797  0.21802678 ...  0.54129749  0.11047691\n",
      "   0.0483572 ]\n",
      " [-1.26115925 -0.29051645 -1.26499659 ... -1.35138617  0.269338\n",
      "  -0.28231213]\n",
      " ...\n",
      " [ 0.72709489  0.45836817  0.75277276 ...  1.46701686  1.19909344\n",
      "   0.65319961]\n",
      " [ 0.25437907  1.33054477  0.15659489 ... -1.29043534 -2.22561725\n",
      "  -1.59557344]\n",
      " [ 0.84100232 -0.06676434  0.8929529  ...  2.15137705  0.35629355\n",
      "   0.37459546]]\n"
     ]
    }
   ],
   "source": [
    "print(X_test_std)"
   ]
  },
  {
   "cell_type": "code",
   "execution_count": 32,
   "id": "bd570572",
   "metadata": {
    "execution": {
     "iopub.execute_input": "2024-09-06T05:03:26.701313Z",
     "iopub.status.busy": "2024-09-06T05:03:26.700865Z",
     "iopub.status.idle": "2024-09-06T05:03:26.710394Z",
     "shell.execute_reply": "2024-09-06T05:03:26.709196Z"
    },
    "executionInfo": {
     "elapsed": 6,
     "status": "ok",
     "timestamp": 1719654206079,
     "user": {
      "displayName": "Reetika Jena",
      "userId": "02969832017266581211"
     },
     "user_tz": -330
    },
    "id": "dKlWTt3RT39S",
    "outputId": "64f9a646-aa4b-45e1-b511-252b93a64541",
    "papermill": {
     "duration": 0.039967,
     "end_time": "2024-09-06T05:03:26.713662",
     "exception": false,
     "start_time": "2024-09-06T05:03:26.673695",
     "status": "completed"
    },
    "tags": []
   },
   "outputs": [
    {
     "name": "stdout",
     "output_type": "stream",
     "text": [
      "[[1.91482440e-01 7.10674942e-01]\n",
      " [4.00956333e-01 4.28492606e-01]\n",
      " [3.49510051e-02 7.84079015e-01]\n",
      " [9.95157540e-01 9.33883595e-04]\n",
      " [3.88693601e-01 4.11202043e-01]\n",
      " [9.75024343e-01 1.68316755e-02]\n",
      " [2.28702188e-01 7.84153104e-01]\n",
      " [3.47087346e-02 7.57691860e-01]\n",
      " [1.02694966e-01 7.09417701e-01]\n",
      " [8.48850980e-02 5.78481853e-01]\n",
      " [4.44669694e-01 4.39455897e-01]\n",
      " [1.21149942e-01 6.99683249e-01]\n",
      " [1.54041886e-01 7.06898808e-01]\n",
      " [2.86391735e-01 6.50135756e-01]\n",
      " [9.30244103e-02 7.50010371e-01]\n",
      " [9.52208400e-01 6.42969087e-02]\n",
      " [4.55781445e-02 7.39816070e-01]\n",
      " [5.37286475e-02 8.10586512e-01]\n",
      " [1.40844762e-01 6.60164773e-01]\n",
      " [8.92365634e-01 6.52483255e-02]\n",
      " [2.27097958e-01 3.24952275e-01]\n",
      " [2.66420618e-02 8.05442750e-01]\n",
      " [3.71862277e-02 7.98538446e-01]\n",
      " [3.48729417e-02 6.81153595e-01]\n",
      " [1.63922995e-01 5.03291786e-01]\n",
      " [8.17516208e-01 6.82331920e-02]\n",
      " [1.83680803e-01 7.89337993e-01]\n",
      " [2.80827910e-01 5.22153020e-01]\n",
      " [8.88441741e-01 6.42171279e-02]\n",
      " [9.07243907e-01 4.79440205e-02]\n",
      " [7.53291398e-02 4.29999650e-01]\n",
      " [1.07356250e-01 6.46406174e-01]\n",
      " [4.28280011e-02 5.93742132e-01]\n",
      " [9.88426983e-01 5.59322583e-03]\n",
      " [8.82219195e-01 6.84161037e-02]\n",
      " [7.99601898e-02 7.95547485e-01]\n",
      " [3.14257964e-02 9.11597967e-01]\n",
      " [2.12351874e-01 7.30514526e-01]\n",
      " [2.79537272e-02 8.68942022e-01]\n",
      " [7.95359910e-02 7.74865687e-01]\n",
      " [9.79026794e-01 5.63164288e-03]\n",
      " [6.72480226e-01 2.40413949e-01]\n",
      " [5.66117913e-02 9.58615720e-01]\n",
      " [3.14946510e-02 8.25861216e-01]\n",
      " [5.78670263e-01 1.62535608e-01]\n",
      " [3.22989449e-02 6.47168517e-01]\n",
      " [1.59994159e-02 7.54252553e-01]\n",
      " [7.68498108e-02 8.34156930e-01]\n",
      " [9.72208977e-01 7.25181168e-03]\n",
      " [7.74229109e-01 1.01183012e-01]\n",
      " [5.74858785e-02 5.56932151e-01]\n",
      " [5.54383993e-01 2.16438085e-01]\n",
      " [5.26200354e-01 4.71491367e-01]\n",
      " [9.22562853e-02 8.00239384e-01]\n",
      " [3.90847214e-02 8.46378624e-01]\n",
      " [2.42959484e-01 2.76811630e-01]\n",
      " [1.16801329e-01 8.06421220e-01]\n",
      " [5.59886210e-02 9.17457640e-01]\n",
      " [8.03591192e-01 2.28330772e-02]\n",
      " [7.75547251e-02 7.40058899e-01]\n",
      " [3.12774628e-01 5.88808119e-01]\n",
      " [7.78456509e-01 1.12272382e-01]\n",
      " [3.04950923e-02 7.23355889e-01]\n",
      " [8.25522184e-01 9.02540982e-02]\n",
      " [9.14518774e-01 8.58117566e-02]\n",
      " [2.14445472e-01 5.50223529e-01]\n",
      " [9.53197956e-01 1.32335713e-02]\n",
      " [8.54643404e-01 1.14388607e-01]\n",
      " [3.83440435e-01 4.53545988e-01]\n",
      " [6.19198442e-01 8.95230994e-02]\n",
      " [7.67720342e-01 1.71676815e-01]\n",
      " [9.37099695e-01 3.24477889e-02]\n",
      " [9.30477828e-02 7.07599282e-01]\n",
      " [5.93025982e-01 2.58844256e-01]\n",
      " [2.58646626e-02 8.11405182e-01]\n",
      " [6.02671206e-01 2.85171688e-01]\n",
      " [6.92534149e-02 8.67293298e-01]\n",
      " [2.72337664e-02 5.42086780e-01]\n",
      " [4.25599337e-01 4.12069261e-01]\n",
      " [4.38386321e-01 3.17295820e-01]\n",
      " [8.99505258e-01 4.98214327e-02]\n",
      " [7.19157994e-01 2.47457549e-01]\n",
      " [8.06281984e-01 6.82376102e-02]\n",
      " [1.83496073e-01 6.24206007e-01]\n",
      " [1.87633768e-01 7.74717510e-01]\n",
      " [6.44453526e-01 6.58122182e-01]\n",
      " [3.04057617e-02 9.35570538e-01]\n",
      " [5.70285879e-02 5.65694153e-01]\n",
      " [1.89482734e-01 6.48194075e-01]\n",
      " [9.03718650e-01 4.55584005e-02]\n",
      " [6.91883713e-02 7.59237647e-01]\n",
      " [9.30914432e-02 6.43889010e-01]\n",
      " [3.45150866e-02 8.41257274e-01]\n",
      " [9.51119781e-01 1.28067061e-01]\n",
      " [6.01918280e-01 1.72109365e-01]\n",
      " [1.18787169e-01 7.07268357e-01]\n",
      " [8.83324921e-01 5.10311052e-02]\n",
      " [8.97586942e-01 3.26226167e-02]\n",
      " [2.42624104e-01 8.73879850e-01]\n",
      " [3.25550921e-02 7.29222178e-01]\n",
      " [1.02576315e-02 6.40795052e-01]\n",
      " [5.50658107e-01 3.79639894e-01]\n",
      " [9.93005693e-01 1.18902000e-03]\n",
      " [9.53348339e-01 1.11309271e-02]\n",
      " [1.12632863e-01 7.88696766e-01]\n",
      " [1.29942233e-02 7.60387003e-01]\n",
      " [1.00394376e-02 9.28387105e-01]\n",
      " [9.73521918e-02 9.51788127e-01]\n",
      " [7.72580877e-03 9.57011640e-01]\n",
      " [4.61631864e-01 8.86335075e-01]\n",
      " [9.27822053e-01 2.73558497e-02]\n",
      " [8.84880006e-01 2.43342891e-02]\n",
      " [6.75559998e-01 7.20431089e-01]\n",
      " [7.26152241e-01 1.08859092e-01]]\n"
     ]
    }
   ],
   "source": [
    "print(Y_pred)"
   ]
  },
  {
   "cell_type": "markdown",
   "id": "11ef29df",
   "metadata": {
    "id": "K4v4_rLmYAh4",
    "papermill": {
     "duration": 0.025547,
     "end_time": "2024-09-06T05:03:26.764937",
     "exception": false,
     "start_time": "2024-09-06T05:03:26.739390",
     "status": "completed"
    },
    "tags": []
   },
   "source": [
    "model.predict() gives the prediction probability of each class for that data point"
   ]
  },
  {
   "cell_type": "code",
   "execution_count": 33,
   "id": "b1d81312",
   "metadata": {
    "execution": {
     "iopub.execute_input": "2024-09-06T05:03:26.820322Z",
     "iopub.status.busy": "2024-09-06T05:03:26.819543Z",
     "iopub.status.idle": "2024-09-06T05:03:26.826126Z",
     "shell.execute_reply": "2024-09-06T05:03:26.824936Z"
    },
    "executionInfo": {
     "elapsed": 3,
     "status": "ok",
     "timestamp": 1719654209860,
     "user": {
      "displayName": "Reetika Jena",
      "userId": "02969832017266581211"
     },
     "user_tz": -330
    },
    "id": "1kDhAbqBT4At",
    "outputId": "6163623b-a55e-439f-9c9c-e798c86f362d",
    "papermill": {
     "duration": 0.037917,
     "end_time": "2024-09-06T05:03:26.829262",
     "exception": false,
     "start_time": "2024-09-06T05:03:26.791345",
     "status": "completed"
    },
    "tags": []
   },
   "outputs": [
    {
     "name": "stdout",
     "output_type": "stream",
     "text": [
      "[0.25, 0.56]\n",
      "1\n"
     ]
    }
   ],
   "source": [
    "#  argmax function\n",
    "\n",
    "my_list = [0.25, 0.56]\n",
    "\n",
    "index_of_max_value = np.argmax(my_list)\n",
    "print(my_list)\n",
    "print(index_of_max_value)"
   ]
  },
  {
   "cell_type": "code",
   "execution_count": 34,
   "id": "2abd488b",
   "metadata": {
    "execution": {
     "iopub.execute_input": "2024-09-06T05:03:26.885120Z",
     "iopub.status.busy": "2024-09-06T05:03:26.884014Z",
     "iopub.status.idle": "2024-09-06T05:03:26.891194Z",
     "shell.execute_reply": "2024-09-06T05:03:26.890086Z"
    },
    "executionInfo": {
     "elapsed": 5,
     "status": "ok",
     "timestamp": 1719654212331,
     "user": {
      "displayName": "Reetika Jena",
      "userId": "02969832017266581211"
     },
     "user_tz": -330
    },
    "id": "mr_a3YfpUHN6",
    "outputId": "91738c89-2d30-4f5c-ee16-4a6ce2bbdc61",
    "papermill": {
     "duration": 0.037512,
     "end_time": "2024-09-06T05:03:26.893764",
     "exception": false,
     "start_time": "2024-09-06T05:03:26.856252",
     "status": "completed"
    },
    "tags": []
   },
   "outputs": [
    {
     "name": "stdout",
     "output_type": "stream",
     "text": [
      "[1, 1, 1, 0, 1, 0, 1, 1, 1, 1, 0, 1, 1, 1, 1, 0, 1, 1, 1, 0, 1, 1, 1, 1, 1, 0, 1, 1, 0, 0, 1, 1, 1, 0, 0, 1, 1, 1, 1, 1, 0, 0, 1, 1, 0, 1, 1, 1, 0, 0, 1, 0, 0, 1, 1, 1, 1, 1, 0, 1, 1, 0, 1, 0, 0, 1, 0, 0, 1, 0, 0, 0, 1, 0, 1, 0, 1, 1, 0, 0, 0, 0, 0, 1, 1, 1, 1, 1, 1, 0, 1, 1, 1, 0, 0, 1, 0, 0, 1, 1, 1, 0, 0, 0, 1, 1, 1, 1, 1, 1, 0, 0, 1, 0]\n"
     ]
    }
   ],
   "source": [
    "# converting the prediction probability to class labels\n",
    "\n",
    "Y_pred_labels = [np.argmax(i) for i in Y_pred]\n",
    "print(Y_pred_labels)"
   ]
  },
  {
   "cell_type": "markdown",
   "id": "3dc6d353",
   "metadata": {
    "id": "TNmkBqJjYyuX",
    "papermill": {
     "duration": 0.025861,
     "end_time": "2024-09-06T05:03:26.946773",
     "exception": false,
     "start_time": "2024-09-06T05:03:26.920912",
     "status": "completed"
    },
    "tags": []
   },
   "source": [
    "**Building the predictive system**"
   ]
  },
  {
   "cell_type": "code",
   "execution_count": 35,
   "id": "5d026665",
   "metadata": {
    "execution": {
     "iopub.execute_input": "2024-09-06T05:03:27.001154Z",
     "iopub.status.busy": "2024-09-06T05:03:27.000716Z",
     "iopub.status.idle": "2024-09-06T05:03:27.086852Z",
     "shell.execute_reply": "2024-09-06T05:03:27.085657Z"
    },
    "executionInfo": {
     "elapsed": 2,
     "status": "ok",
     "timestamp": 1719654213559,
     "user": {
      "displayName": "Reetika Jena",
      "userId": "02969832017266581211"
     },
     "user_tz": -330
    },
    "id": "OVMPgvt-UHQe",
    "outputId": "2fd8311f-8488-4490-d4bd-f916e7490f34",
    "papermill": {
     "duration": 0.116817,
     "end_time": "2024-09-06T05:03:27.089975",
     "exception": false,
     "start_time": "2024-09-06T05:03:26.973158",
     "status": "completed"
    },
    "tags": []
   },
   "outputs": [
    {
     "name": "stdout",
     "output_type": "stream",
     "text": [
      "\u001b[1m1/1\u001b[0m \u001b[32m━━━━━━━━━━━━━━━━━━━━\u001b[0m\u001b[37m\u001b[0m \u001b[1m0s\u001b[0m 20ms/step\n",
      "[[0.1975934  0.44783792]]\n",
      "[1]\n",
      "The tumor is Benign\n"
     ]
    },
    {
     "name": "stderr",
     "output_type": "stream",
     "text": [
      "/opt/conda/lib/python3.10/site-packages/sklearn/base.py:439: UserWarning: X does not have valid feature names, but StandardScaler was fitted with feature names\n",
      "  warnings.warn(\n"
     ]
    }
   ],
   "source": [
    "input_data = (13.54, 14.36, 87.46, 566.3, 0.09779, 0.08129, 0.06664, 0.04781, 0.1885, 0.05766, 0.2699, 0.7886, 2.058, 23.56, 0.008462, 0.0146, 0.02387, 0.01315, 0.0198, 0.0023, 15.11, 19.26, 99.7, 711.2, 0.144, 0.1773, 0.239, 0.1288, 0.2977, 0.07259)\n",
    "# change the input_data to a numpy array\n",
    "input_data_as_numpy_array = np.asarray(input_data)\n",
    "\n",
    "# reshape the numpy array as we are predicting for one data point\n",
    "input_data_reshaped = input_data_as_numpy_array.reshape(1,-1)\n",
    "\n",
    "# standardizing the input data\n",
    "input_data_std = scaler.transform(input_data_reshaped)\n",
    "\n",
    "prediction = model.predict(input_data_std)\n",
    "print(prediction)\n",
    "\n",
    "prediction_label = [np.argmax(prediction)]\n",
    "print(prediction_label)\n",
    "\n",
    "if(prediction_label[0] == 0):\n",
    "  print('The tumor is Malignant')\n",
    "\n",
    "else:\n",
    "  print('The tumor is Benign')"
   ]
  }
 ],
 "metadata": {
  "colab": {
   "authorship_tag": "ABX9TyPIncAoH7rww0x4hmxm+mTc",
   "provenance": []
  },
  "kaggle": {
   "accelerator": "none",
   "dataSources": [
    {
     "datasetId": 5653100,
     "sourceId": 9330307,
     "sourceType": "datasetVersion"
    }
   ],
   "dockerImageVersionId": 30761,
   "isGpuEnabled": false,
   "isInternetEnabled": false,
   "language": "python",
   "sourceType": "notebook"
  },
  "kernelspec": {
   "display_name": "Python 3",
   "name": "python3"
  },
  "language_info": {
   "codemirror_mode": {
    "name": "ipython",
    "version": 3
   },
   "file_extension": ".py",
   "mimetype": "text/x-python",
   "name": "python",
   "nbconvert_exporter": "python",
   "pygments_lexer": "ipython3",
   "version": "3.10.14"
  },
  "papermill": {
   "default_parameters": {},
   "duration": 28.622388,
   "end_time": "2024-09-06T05:03:29.551007",
   "environment_variables": {},
   "exception": null,
   "input_path": "__notebook__.ipynb",
   "output_path": "__notebook__.ipynb",
   "parameters": {},
   "start_time": "2024-09-06T05:03:00.928619",
   "version": "2.6.0"
  }
 },
 "nbformat": 4,
 "nbformat_minor": 5
}
